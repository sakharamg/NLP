{
 "cells": [
  {
   "cell_type": "code",
   "execution_count": 1,
   "id": "71a24b89",
   "metadata": {},
   "outputs": [],
   "source": [
    "import nltk\n",
    "nltk.download(\"all\",quiet=True)\n",
    "from nltk.tree import Tree"
   ]
  },
  {
   "cell_type": "code",
   "execution_count": 2,
   "id": "c2b629bb",
   "metadata": {},
   "outputs": [],
   "source": [
    "from nltk.corpus import semcor #for semcor corpus\n",
    "\n"
   ]
  },
  {
   "cell_type": "code",
   "execution_count": 19,
   "id": "ab54297d",
   "metadata": {},
   "outputs": [],
   "source": [
    "from nltk.corpus import wordnet as wn\n"
   ]
  },
  {
   "cell_type": "code",
   "execution_count": 43,
   "id": "59b024ce",
   "metadata": {},
   "outputs": [
    {
     "data": {
      "text/plain": [
       "[Synset('primary.n.01')]"
      ]
     },
     "execution_count": 43,
     "metadata": {},
     "output_type": "execute_result"
    }
   ],
   "source": [
    "wn.synsets('primary_election')"
   ]
  },
  {
   "cell_type": "code",
   "execution_count": 22,
   "id": "9fb5fb5b",
   "metadata": {},
   "outputs": [
    {
     "data": {
      "text/plain": [
       "'a preliminary election where delegates or nominees are chosen'"
      ]
     },
     "execution_count": 22,
     "metadata": {},
     "output_type": "execute_result"
    }
   ],
   "source": [
    "wn.synset('primary.n.01').definition()"
   ]
  },
  {
   "cell_type": "code",
   "execution_count": 31,
   "id": "96d94fa8",
   "metadata": {},
   "outputs": [
    {
     "data": {
      "text/plain": [
       "['__class__',\n",
       " '__delattr__',\n",
       " '__dict__',\n",
       " '__dir__',\n",
       " '__doc__',\n",
       " '__eq__',\n",
       " '__format__',\n",
       " '__ge__',\n",
       " '__getattribute__',\n",
       " '__gt__',\n",
       " '__hash__',\n",
       " '__init__',\n",
       " '__init_subclass__',\n",
       " '__le__',\n",
       " '__lt__',\n",
       " '__module__',\n",
       " '__ne__',\n",
       " '__new__',\n",
       " '__reduce__',\n",
       " '__reduce_ex__',\n",
       " '__repr__',\n",
       " '__setattr__',\n",
       " '__sizeof__',\n",
       " '__slots__',\n",
       " '__str__',\n",
       " '__subclasshook__',\n",
       " '__weakref__',\n",
       " '_frame_ids',\n",
       " '_frame_strings',\n",
       " '_hypernyms',\n",
       " '_instance_hypernyms',\n",
       " '_key',\n",
       " '_lang',\n",
       " '_lex_id',\n",
       " '_lexname_index',\n",
       " '_name',\n",
       " '_related',\n",
       " '_synset',\n",
       " '_syntactic_marker',\n",
       " '_wordnet_corpus_reader',\n",
       " 'also_sees',\n",
       " 'antonyms',\n",
       " 'attributes',\n",
       " 'causes',\n",
       " 'count',\n",
       " 'derivationally_related_forms',\n",
       " 'entailments',\n",
       " 'frame_ids',\n",
       " 'frame_strings',\n",
       " 'hypernyms',\n",
       " 'hyponyms',\n",
       " 'in_region_domains',\n",
       " 'in_topic_domains',\n",
       " 'in_usage_domains',\n",
       " 'instance_hypernyms',\n",
       " 'instance_hyponyms',\n",
       " 'key',\n",
       " 'lang',\n",
       " 'member_holonyms',\n",
       " 'member_meronyms',\n",
       " 'name',\n",
       " 'part_holonyms',\n",
       " 'part_meronyms',\n",
       " 'pertainyms',\n",
       " 'region_domains',\n",
       " 'similar_tos',\n",
       " 'substance_holonyms',\n",
       " 'substance_meronyms',\n",
       " 'synset',\n",
       " 'syntactic_marker',\n",
       " 'topic_domains',\n",
       " 'usage_domains',\n",
       " 'verb_groups']"
      ]
     },
     "execution_count": 31,
     "metadata": {},
     "output_type": "execute_result"
    }
   ],
   "source": [
    "dir(semcor.tagged_sents(tag='sem')[0][10].label())"
   ]
  },
  {
   "cell_type": "code",
   "execution_count": 39,
   "id": "b041701e",
   "metadata": {},
   "outputs": [
    {
     "data": {
      "text/plain": [
       "'primary_election'"
      ]
     },
     "execution_count": 39,
     "metadata": {},
     "output_type": "execute_result"
    }
   ],
   "source": [
    "semcor.tagged_sents(tag='sem')[0][10].label().name()"
   ]
  },
  {
   "cell_type": "code",
   "execution_count": null,
   "id": "939e0995",
   "metadata": {},
   "outputs": [],
   "source": [
    "also_sees',\n",
    " 'antonyms',\n",
    " 'attributes',\n",
    " 'causes',\n",
    " 'count',\n",
    " 'derivationally_related_forms',\n",
    " 'entailments',\n",
    " 'frame_ids',\n",
    " 'frame_strings',\n",
    " 'hypernyms',\n",
    " 'hyponyms',\n",
    " 'in_region_domains',\n",
    " 'in_topic_domains',\n",
    " 'in_usage_domains',\n",
    " 'instance_hypernyms',\n",
    " 'instance_hyponyms',\n",
    " 'key',\n",
    " 'lang',\n",
    " 'member_holonyms',\n",
    " 'member_meronyms',\n",
    " 'name',\n",
    " 'part_holonyms',\n",
    " 'part_meronyms',\n",
    " 'pertainyms',\n",
    " 'region_domains',\n",
    " 'similar_tos',\n",
    " 'substance_holonyms',\n",
    " 'substance_meronyms',\n",
    " 'synset',\n",
    " 'syntactic_marker',\n",
    " 'topic_domains',\n",
    " 'usage_domains',\n",
    " 'verb_groups']"
   ]
  },
  {
   "cell_type": "code",
   "execution_count": 23,
   "id": "366b3a43",
   "metadata": {},
   "outputs": [],
   "source": [
    "# Task: Tag words with synset ID\n",
    "# Three types of tags in semcor\n",
    "# 1) No tag\n",
    "# 2) Tagged with a lemma of synset: A lemma is a data structure which contains synset along with its synset_id, hypernymy, hyponymy,... \n",
    "# 3) Tagged with lemma but the synset ID doesn't exist in wordnet\n",
    "#    One such example is the 7th sentence in the semcor corpus\n",
    "#    The grand jury commented on a number of other topics, among them the Atlanta and Fulton County purchasing departments which it said are \n",
    "#    well operated and follow generally accepted practices which inure to the best interest of both governments.\n",
    "#                                       ^______^  \"accepted\" is tagged as \"accepted.s.00\" lemma and this doesn't have a synsetID in wordnet\n",
    "#    All the three cases are handled by the code\n",
    "\n",
    "# Each sentence has a pair of phrase and (representation of)synset\n",
    "# Each Phrase has one or more words(e.g. \"primary election\" in first sentence of corpora)\n",
    "# Each synset is respresented as a Tree e.g. for \"primary election\"\n",
    "# Lemma('primary.n.01.primary_election')\n",
    "#                 /\\\n",
    "#                /  \\\n",
    "#               /    \\\n",
    "#         primary   election\n",
    "# This example will be used later to explain code\n",
    "synCorpus=[]\n",
    "current_index=0\n",
    "for taggedSents in semcor.tagged_sents(tag='sem'): # for each sentence fetch the (phrase,synsetTree)\n",
    "    synCorpus.append([])                           # create a list designating current sentence which will contain (phrase,synsetID)\n",
    "    for phrase in taggedSents:\n",
    "        if type(phrase)==list:                     # The phrase with no tag is a list in semcor [Note: CASE 1]\n",
    "            #if its a list fetch the word and set -1 as synset ID which indicates no synset TAG\n",
    "            synCorpus[current_index].append((phrase[0],-1))  # a tuple is formed\n",
    "        else: # if synset is a Tree [Note Case 2 and 3]\n",
    "            # Here when theres a synset not in wordnet, theres no synset id[Case 3], to handle this\n",
    "            # except block is used\n",
    "            # The try except will get the synset ID and in case no synsetID -2 is given to such a case\n",
    "            try: \n",
    "                # handle Case 2\n",
    "                synTag_for_corpus=phrase.label().synset().offset()\n",
    "            except:\n",
    "                # handle Case 3\n",
    "                synTag_for_corpus=-2 # -2 indicates no synset tags for the specific POS but available for some POS\n",
    "            for words in phrase:\n",
    "                # Here words will be \"primary\" and \"election\" in form of Tree[Referring to the example at the beginning]\n",
    "                str=\"\"\n",
    "                for word in words:\n",
    "                    str+=\" \"+word\n",
    "                # e.g. str= \"primary election \"\n",
    "                str.strip() # e.g. str= \"primary election\"\n",
    "                synText_for_corpus=str\n",
    "            synCorpus[current_index].append((synText_for_corpus,synTag_for_corpus)) # For case 2 and 3 form a tuple\n",
    "    current_index+=1 # Keeps tract of the sentence index\n",
    "no_sents=current_index #Saved total number of sentences\n",
    "# The reason for storing as tuples is because the brown corpus stored it in a same way and this way we have to make minimal changed to HMM-Viterbi POS tag code if any :)"
   ]
  },
  {
   "cell_type": "code",
   "execution_count": 24,
   "id": "e38e4f45",
   "metadata": {},
   "outputs": [
    {
     "data": {
      "text/plain": [
       "[('The', -1),\n",
       " (' Fulton County Grand Jury', 31264),\n",
       " (' s a i d', 1009240),\n",
       " (' F r i d a y', 15164463),\n",
       " ('an', -1),\n",
       " (' i n v e s t i g a t i o n', 5800611),\n",
       " ('of', -1),\n",
       " (' A t l a n t a', 9076675),\n",
       " (\"'s\", -1),\n",
       " (' r e c e n t', 1730444),\n",
       " (' e l e c t i o n', 182571),\n",
       " (' p r o d u c e d', 2141146),\n",
       " ('``', -1),\n",
       " ('no', -1),\n",
       " (' e v i d e n c e', 5823932),\n",
       " (\"''\", -1),\n",
       " ('that', -1),\n",
       " ('any', -1),\n",
       " (' i r r e g u l a r i t i e s', 737188),\n",
       " (' p l a c e', 339934),\n",
       " ('.', -1)]"
      ]
     },
     "execution_count": 24,
     "metadata": {},
     "output_type": "execute_result"
    }
   ],
   "source": [
    "synCorpus[0]"
   ]
  }
 ],
 "metadata": {
  "kernelspec": {
   "display_name": "Python 3 (ipykernel)",
   "language": "python",
   "name": "python3"
  },
  "language_info": {
   "codemirror_mode": {
    "name": "ipython",
    "version": 3
   },
   "file_extension": ".py",
   "mimetype": "text/x-python",
   "name": "python",
   "nbconvert_exporter": "python",
   "pygments_lexer": "ipython3",
   "version": "3.8.10"
  }
 },
 "nbformat": 4,
 "nbformat_minor": 5
}
