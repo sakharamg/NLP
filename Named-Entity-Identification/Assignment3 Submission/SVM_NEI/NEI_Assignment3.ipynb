{
  "nbformat": 4,
  "nbformat_minor": 0,
  "metadata": {
    "colab": {
      "name": "NEI_Assignment3",
      "provenance": [],
      "collapsed_sections": []
    },
    "kernelspec": {
      "display_name": "Python 3",
      "name": "python3"
    },
    "language_info": {
      "name": "python"
    }
  },
  "cells": [
    {
      "cell_type": "markdown",
      "metadata": {
        "id": "WJ9p0yc3y-_Y"
      },
      "source": [
        "How to Load the dataset?"
      ]
    },
    {
      "cell_type": "code",
      "metadata": {
        "id": "ou250bMEHWJM"
      },
      "source": [
        "!pip install datasets\n",
        "from datasets import load_dataset\n",
        "dataset = load_dataset('conll2003')"
      ],
      "execution_count": null,
      "outputs": []
    },
    {
      "cell_type": "markdown",
      "metadata": {
        "id": "HWEHIGSIILGe"
      },
      "source": [
        "1. First letter cap?\n",
        "2. Length of word\n",
        "3. Is a stop word?\n",
        "4. Number of capital letters\n",
        "5. Number of dots\n",
        "6. Number of Hyphens\n",
        "7. Number of digits\n",
        "8. Number of letters\n",
        "9. Pos tag(in numerical form)\n",
        "10. Is a proper noun?\n",
        "11. Is a verb?\n",
        "12. Is a cardinal number?\n",
        "13. Preceeded by Named Entity?\n",
        "14. Preceeded by article?\n",
        "15. Is the first word?"
      ]
    },
    {
      "cell_type": "code",
      "metadata": {
        "id": "k_p61OAtezB2"
      },
      "source": [
        "stopwords=['i', 'me', 'my', 'myself', 'we', 'our', 'ours', 'ourselves', 'you', \"you're\", \"you've\", \"you'll\", \"you'd\", 'your', 'yours', 'yourself', 'yourselves', 'he', 'him', 'his', 'himself', 'she', \"she's\", 'her', 'hers', 'herself', 'it', \"it's\", 'its', 'itself', 'they', 'them', 'their', 'theirs', 'themselves', 'what', 'which', 'who', 'whom', 'this', 'that', \"that'll\", 'these', 'those', 'am', 'is', 'are', 'was', 'were', 'be', 'been', 'being', 'have', 'has', 'had', 'having', 'do', 'does', 'did', 'doing', 'a', 'an', 'the', 'and', 'but', 'if', 'or', 'because', 'as', 'until', 'while', 'of', 'at', 'by', 'for', 'with', 'about', 'against', 'between', 'into', 'through', 'during', 'before', 'after', 'above', 'below', 'to', 'from', 'up', 'down', 'in', 'out', 'on', 'off', 'over', 'under', 'again', 'further', 'then', 'once', 'here', 'there', 'when', 'where', 'why', 'how', 'all', 'any', 'both', 'each', 'few', 'more', 'most', 'other', 'some', 'such', 'no', 'nor', 'not', 'only', 'own', 'same', 'so', 'than', 'too', 'very', 's', 't', 'can', 'will', 'just', 'don', \"don't\", 'should', \"should've\", 'now', 'd', 'll', 'm', 'o', 're', 've', 'y', 'ain', 'aren', \"aren't\", 'couldn', \"couldn't\", 'didn', \"didn't\", 'doesn', \"doesn't\", 'hadn', \"hadn't\", 'hasn', \"hasn't\", 'haven', \"haven't\", 'isn', \"isn't\", 'ma', 'mightn', \"mightn't\", 'mustn', \"mustn't\", 'needn', \"needn't\", 'shan', \"shan't\", 'shouldn', \"shouldn't\", 'wasn', \"wasn't\", 'weren', \"weren't\", 'won', \"won't\", 'wouldn', \"wouldn't\"]\n"
      ],
      "execution_count": null,
      "outputs": []
    },
    {
      "cell_type": "code",
      "metadata": {
        "id": "DylZZPLrH41E"
      },
      "source": [
        "def get_vector(word,word_vectors,pos,prev_NE,prev_art,is_first):\n",
        "  vector=[]\n",
        "  vector.append(1 if word[0].upper()==word[0] else 0) #1. First letter cap?\n",
        "  vector.append(len(word))#2. Length of word\n",
        "  vector.append(1 if word in stopwords else 0)#3. Is a stop word?\n",
        "  vector.append(sum(1 for elem in word if elem.isupper()))#4. Number of capital letters\n",
        "  vector.append(sum(1 for elem in word if elem=='.'))# 5. Number of dots\n",
        "  vector.append(sum(1 for elem in word if elem=='-'))#6. Number of Hyphens\n",
        "  vector.append((sum(1 for elem in word if elem.isnumeric()))/len(word))#7. Number of digits\n",
        "  vector.append((sum(1 for elem in word if elem.isalpha()))/len(word)) #8. Number of letters\n",
        "  vector.append(pos)#9. Pos tag(in numerical form)\n",
        "  if pos ==22:#10. Is a proper noun?\n",
        "    vector.append(1)\n",
        "  else:\n",
        "    vector.append(0)\n",
        "  if pos >=37 and pos<=42:# 11. Is a verb?\n",
        "    vector.append(1)\n",
        "  else:\n",
        "    vector.append(0) \n",
        "  if pos ==11:  #12. Is a cardinal number?\n",
        "    vector.append(1) \n",
        "  else:\n",
        "    vector.append(0)\n",
        "  vector.append(prev_NE)#13. Preceeded by Named Entity?\n",
        "  vector.append(prev_art)#14. Preceeded by article?\n",
        "  vector.append(is_first)#15. Is the first word?\n",
        "  word_vectors[word]=vector\n",
        "  return word_vectors[word]\n"
      ],
      "execution_count": null,
      "outputs": []
    },
    {
      "cell_type": "code",
      "metadata": {
        "id": "ROYmik6t_x5L"
      },
      "source": [
        "word_vectors={}\n",
        "train_X=[]\n",
        "train_y=[]"
      ],
      "execution_count": null,
      "outputs": []
    },
    {
      "cell_type": "code",
      "metadata": {
        "id": "0VRjzoSx5KK0"
      },
      "source": [
        "for sentence,ner_sentence, pos_sentence in zip(dataset['train'].data['tokens'],dataset['train'].data['ner_tags'],dataset['train'].data['pos_tags']):\n",
        "                                                                   prev_NE=0\n",
        "                                                                   prev_art=0\n",
        "                                                                   is_first=1\n",
        "                                                                   location=0\n",
        "                                                                   for word,ner_word,pos_word in zip(sentence,ner_sentence,pos_sentence):\n",
        "                                                                     location+=1\n",
        "                                                                     train_X.append(get_vector(word.as_py(),word_vectors,pos_word.as_py(),prev_NE,prev_art,is_first))\n",
        "                                                                     train_y.append(0 if ner_word.as_py()==0 else 1)\n",
        "                                                                     prev_NE=ner_word.as_py()\n",
        "                                                                     if pos_word.as_py()==12:\n",
        "                                                                       prev_art=1\n",
        "                                                                     else:\n",
        "                                                                       prev_art=0\n",
        "                                                                     is_first=0\n",
        "                                                                    "
      ],
      "execution_count": null,
      "outputs": []
    },
    {
      "cell_type": "code",
      "metadata": {
        "id": "JyLwbZjxfFmV"
      },
      "source": [
        "from sklearn import svm\n",
        "clf = svm.SVC(cache_size=10000,C=0.1,gamma=10,class_weight=\"balanced\")\n",
        "\n",
        "clf.fit(train_X, train_y) "
      ],
      "execution_count": null,
      "outputs": []
    },
    {
      "cell_type": "markdown",
      "metadata": {
        "id": "oXmzYaWPuO4j"
      },
      "source": [
        "# Accuracy on Test set"
      ]
    },
    {
      "cell_type": "code",
      "metadata": {
        "id": "RomwcvgSuQ-Q"
      },
      "source": [
        "test_X=[]\n",
        "test_y=[]\n"
      ],
      "execution_count": null,
      "outputs": []
    },
    {
      "cell_type": "code",
      "metadata": {
        "id": "WOWttvGFuV12"
      },
      "source": [
        "for sentence,ner_sentence, pos_sentence in zip(dataset['test'].data['tokens'],dataset['test'].data['ner_tags'],dataset['test'].data['pos_tags']):\n",
        "                                                                   prev_NE=0\n",
        "                                                                   prev_art=0\n",
        "                                                                   is_first=1\n",
        "                                                                   location=0\n",
        "                                                                   for word,ner_word,pos_word in zip(sentence,ner_sentence,pos_sentence):\n",
        "                                                                     location+=1\n",
        "                                                                     test_X.append(get_vector(word.as_py(),word_vectors,pos_word.as_py(),prev_NE,prev_art,is_first))\n",
        "                                                                     test_y.append(0 if ner_word.as_py()==0 else 1)\n",
        "                                                                     prev_NE=ner_word.as_py()\n",
        "                                                                     if pos_word.as_py()==12:\n",
        "                                                                       prev_art=1\n",
        "                                                                     else:\n",
        "                                                                       prev_art=0\n",
        "                                                                     is_first=0"
      ],
      "execution_count": null,
      "outputs": []
    },
    {
      "cell_type": "code",
      "metadata": {
        "id": "FunrYVmY83OK"
      },
      "source": [
        "import seaborn as sns\n",
        "from sklearn.metrics import classification_report, confusion_matrix\n",
        "\n",
        "predictions= clf.predict(test_X)\n",
        "print(classification_report(test_y, predictions,digits=4))\n",
        "cf_matrix = confusion_matrix(test_y, predictions)\n",
        "sns.heatmap(cf_matrix, annot=True, fmt='g')"
      ],
      "execution_count": null,
      "outputs": []
    }
  ]
}