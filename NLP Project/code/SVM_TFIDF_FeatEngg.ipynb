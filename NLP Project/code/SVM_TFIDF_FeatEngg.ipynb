{
  "nbformat": 4,
  "nbformat_minor": 0,
  "metadata": {
    "colab": {
      "name": "SVM_TFIDF_FeatEngg.ipynb",
      "provenance": [],
      "collapsed_sections": []
    },
    "kernelspec": {
      "name": "python3",
      "display_name": "Python 3"
    },
    "language_info": {
      "name": "python"
    }
  },
  "cells": [
    {
      "cell_type": "code",
      "metadata": {
        "id": "UfPTrWvr_jSb"
      },
      "source": [
        "import pandas as pd\n",
        "import numpy as np\n",
        "from sklearn.model_selection import train_test_split\n",
        "\n",
        "## Function to load tweets along with their label and id\n",
        "def load_data(path):\n",
        "  return pd.read_csv(path)[[\"id\",\"tweets\",\"label\"]]"
      ],
      "execution_count": 1,
      "outputs": []
    },
    {
      "cell_type": "code",
      "metadata": {
        "id": "Nir7plQrAM3p"
      },
      "source": [
        "## Load the preprocessed tweets\n",
        "tweets=load_data(\"https://0f41bdd6-d0a9-458e-937c-838e849bb6f4.usrfiles.com/ugd/0f41bd_520705b60d3149cf990572133108dffc.csv\")\n",
        "test_tweets = pd.read_csv('https://0f41bdd6-d0a9-458e-937c-838e849bb6f4.usrfiles.com/ugd/0f41bd_8fcf459d1c1b4906a9e488335bdc9dec.csv')"
      ],
      "execution_count": 2,
      "outputs": []
    },
    {
      "cell_type": "markdown",
      "metadata": {
        "id": "HoF2wNlNlm87"
      },
      "source": [
        "Data Analysis\n",
        "\n",
        "https://colab.research.google.com/drive/1DLoVMkGTGFtNh9nAFCq4ppe_4K8ETono?usp=sharing"
      ]
    },
    {
      "cell_type": "code",
      "metadata": {
        "colab": {
          "base_uri": "https://localhost:8080/"
        },
        "id": "8i6KmU31CVb7",
        "outputId": "330e5a5d-abb4-4093-e432-5a461aac44a0"
      },
      "source": [
        "import nltk\n",
        "nltk.download('stopwords')\n",
        "from sklearn import feature_extraction, model_selection, naive_bayes, pipeline, manifold, preprocessing"
      ],
      "execution_count": 3,
      "outputs": [
        {
          "output_type": "stream",
          "name": "stdout",
          "text": [
            "[nltk_data] Downloading package stopwords to /root/nltk_data...\n",
            "[nltk_data]   Unzipping corpora/stopwords.zip.\n"
          ]
        }
      ]
    },
    {
      "cell_type": "code",
      "metadata": {
        "id": "P4PFGoAmFN6K"
      },
      "source": [
        "lst_stopwords = nltk.corpus.stopwords.words(\"english\")"
      ],
      "execution_count": 4,
      "outputs": []
    },
    {
      "cell_type": "code",
      "metadata": {
        "colab": {
          "base_uri": "https://localhost:8080/"
        },
        "id": "-395ZxYmNjYR",
        "outputId": "88882105-0fb6-4866-babc-09b3818bbfd7"
      },
      "source": [
        "from nltk.tokenize import sent_tokenize, word_tokenize\n",
        "nltk.download('punkt')\n",
        "import nltk\n",
        "nltk.download('averaged_perceptron_tagger')\n",
        "def pos(text):\n",
        "    pos=nltk.pos_tag(word_tokenize(text))\n",
        "    pos=list(map(list,zip(*pos)))[1]\n",
        "    return pos"
      ],
      "execution_count": 5,
      "outputs": [
        {
          "output_type": "stream",
          "name": "stdout",
          "text": [
            "[nltk_data] Downloading package punkt to /root/nltk_data...\n",
            "[nltk_data]   Unzipping tokenizers/punkt.zip.\n",
            "[nltk_data] Downloading package averaged_perceptron_tagger to\n",
            "[nltk_data]     /root/nltk_data...\n",
            "[nltk_data]   Unzipping taggers/averaged_perceptron_tagger.zip.\n"
          ]
        }
      ]
    },
    {
      "cell_type": "code",
      "metadata": {
        "colab": {
          "base_uri": "https://localhost:8080/"
        },
        "id": "JrVMDB4cRCwo",
        "outputId": "10d77e58-7061-4865-a417-b599a1824e7e"
      },
      "source": [
        "X_train_tweets, X_test_tweets, y_train, y_test = train_test_split(tweets[['id','tweets']], tweets[['id','label']], test_size=0.2, shuffle=True)\n",
        "## Function to get encoding given a tweet\n",
        "import nltk\n",
        "from nltk.sentiment.vader import SentimentIntensityAnalyzer\n",
        "nltk.download('vader_lexicon')\n",
        "sid = SentimentIntensityAnalyzer()\n",
        "def get_vader_score(sent):\n",
        "    # Polarity score returns dictionary\n",
        "    ss = sid.polarity_scores(sent)\n",
        "    #return ss\n",
        "    return np.argmax(list(ss.values())[:-1])\n",
        "def get_encoding_per_tweet(tweet):\n",
        "  encoding=[]\n",
        "  tweet=tweet.lower()\n",
        "\n",
        "  # TWEET RELATED TO EARTHQUAKE\n",
        "  if \"earthquake\" in tweet:\n",
        "    encoding.append(1)\n",
        "  else:\n",
        "    encoding.append(0)\n",
        "\n",
        "  # TWEETS RELATED TO INJURIES AND DEATHS\n",
        "  if \"death\" in tweet and \"toll\" in tweet or 'victim' in tweet or \"injur\" in tweets:\n",
        "    encoding.append(1) # Can call another function in place of \"0\" which will give first encoding\n",
        "  else:\n",
        "    encoding.append(0) # Can call another function in place of \"1\" which will give second encoding\n",
        "  encoding.append(get_vader_score(tweet))\n",
        "\n",
        "  if \"dozens\" in tweet or \"thousands\" in tweet or  \"hundreds\" in tweet:\n",
        "    encoding.append(1) # Can call another function in place of \"0\" which will give first encoding\n",
        "  else:\n",
        "    encoding.append(0) # Can call another function in place of \"1\" which will give second encoding\n",
        "\n",
        "  #TWEETS RELATED TO MISSING OR MISPLACED PEOPLE\n",
        "  if \"miss\" in tweet or \"evacuat\" in tweet or \"displac\" in tweet or \"lost\" in tweet or \"relocat\" in tweet :\n",
        "    encoding.append(1) # Can call another function in place of \"0\" which will give first encoding\n",
        "  else:\n",
        "    encoding.append(0) # Can call another function in place of \"1\" which will give second encoding\n",
        "  \n",
        "  #TWEETS THAT TALK ABOUT FIRES AND TSUNAMI\n",
        "  if \"fire\" in tweet or \"tsunami\" in tweet:\n",
        "    encoding.append(1) # Can call another function in place of \"0\" which will give first encoding\n",
        "  else:\n",
        "    encoding.append(0) # Can call another function in place of \"1\" which will give second encoding\n",
        "  \n",
        "  return encoding\n",
        "\n",
        "\n",
        "## Get Encodings for all tweets [train or test, whichever supplied]\n",
        "def get_encoding_for_data(data):\n",
        "  X=[]\n",
        "  # Get encoding for each tweet in the data(set of tweets)\n",
        "  for tweet_id,tweet in zip(data['id'],data['tweets']):\n",
        "    X.append(get_encoding_per_tweet(tweet))\n",
        "  return X\n",
        "\n",
        "# feat_embedding=pd.DataFrame(get_encoding_for_data(X_train_tweets),columns=['a','b','c','d','e','f'])"
      ],
      "execution_count": 6,
      "outputs": [
        {
          "output_type": "stream",
          "name": "stdout",
          "text": [
            "[nltk_data] Downloading package vader_lexicon to /root/nltk_data...\n"
          ]
        },
        {
          "output_type": "stream",
          "name": "stderr",
          "text": [
            "/usr/local/lib/python3.7/dist-packages/nltk/twitter/__init__.py:20: UserWarning: The twython library has not been installed. Some functionality from the twitter package will not be available.\n",
            "  warnings.warn(\"The twython library has not been installed. \"\n"
          ]
        }
      ]
    },
    {
      "cell_type": "code",
      "metadata": {
        "id": "Hg7kTr9MDoXC"
      },
      "source": [
        "\n",
        "tweets['tweets'] = tweets['tweets'].apply(lambda x: str(x).lower())\n",
        "test_tweets['tweets'] = test_tweets['tweets'].apply(lambda x:x.lower())\n",
        "\n",
        "def remove_stopwords(tweet, stopwords_list):\n",
        "  tweet = tweet.split()\n",
        "  fin_list = []\n",
        "  for word in tweet:\n",
        "    if word not in stopwords_list:\n",
        "      fin_list.append(word)\n",
        "  \n",
        "  updated_sent = \" \"\n",
        "  updated_sent = updated_sent.join(fin_list)\n",
        "  return updated_sent\n",
        "\n",
        "def pos_selection(tweet):\n",
        "  pos_list=pos(tweet)\n",
        "  tweet = tweet.split()\n",
        "  fin_list = []\n",
        "  for tag,word in zip(pos_list,tweet):\n",
        "    if \"VB\" in tag or \"JJ\" in tag or \"RB\" in tag or \"NN\" in tag:\n",
        "      if \"NNP\" not in tag: \n",
        "        fin_list.append(word)\n",
        "  \n",
        "  updated_sent = \" \"\n",
        "  updated_sent = updated_sent.join(fin_list)\n",
        "  return updated_sent\n",
        "\n",
        "tweets['tweets'] = tweets['tweets'].apply(lambda x: pos_selection(x))\n",
        "# tweets['tweets'] = tweets['tweets'].apply(lambda x: remove_stopwords(x,lst_stopwords))\n",
        "# test_tweets['tweets'] = test_tweets['tweets'].apply(lambda x: remove_stopwords(x,lst_stopwords))"
      ],
      "execution_count": 7,
      "outputs": []
    },
    {
      "cell_type": "code",
      "metadata": {
        "id": "4gCCoN5gD9_N"
      },
      "source": [
        "## Split into train and test, 80:20 split used\n",
        "X_train_tweets, X_test_tweets, y_train, y_test = train_test_split(tweets[['id','tweets']], tweets[['id','label']], test_size=0.2, shuffle=False)"
      ],
      "execution_count": 8,
      "outputs": []
    },
    {
      "cell_type": "code",
      "metadata": {
        "id": "dYnlsAqREIKX"
      },
      "source": [
        "from sklearn.feature_extraction.text import TfidfVectorizer\n",
        "tfidf = TfidfVectorizer(min_df=2,max_df=0.5, ngram_range=(1,3))\n",
        "model=tfidf.fit(X_train_tweets['tweets'])\n",
        "features=model.transform(X_train_tweets['tweets'])\n",
        "features_test=model.transform(X_test_tweets['tweets'])\n",
        "x_train=features\n",
        "x_test=features_test\n",
        "\n",
        "x_new_test=model.transform(test_tweets['tweets'])\n",
        "# print(model.transform(X_train_tweets['tweets']).shape)\n",
        "# print(model.transform(X_test_tweets['tweets']).shape)"
      ],
      "execution_count": 9,
      "outputs": []
    },
    {
      "cell_type": "code",
      "metadata": {
        "colab": {
          "base_uri": "https://localhost:8080/"
        },
        "id": "64GcncggqQ3y",
        "outputId": "1994ae73-eba4-41f3-b2db-9ce401a1fce0"
      },
      "source": [
        "# REMOVING LOW VARIANCE FEATURES\n",
        "from sklearn.feature_selection import VarianceThreshold\n",
        "constant_filter = VarianceThreshold(threshold = 0.0002)\n",
        "constant_filter.fit(x_train)\n",
        "# feature_list = x_train\n",
        "# print('Number of selected features: ' ,len(list(feature_list)),'\\n')\n",
        "# print('List of selected features: \\n' ,list(feature_list))"
      ],
      "execution_count": 10,
      "outputs": [
        {
          "output_type": "execute_result",
          "data": {
            "text/plain": [
              "VarianceThreshold(threshold=0.0002)"
            ]
          },
          "metadata": {},
          "execution_count": 10
        }
      ]
    },
    {
      "cell_type": "code",
      "metadata": {
        "colab": {
          "base_uri": "https://localhost:8080/"
        },
        "id": "qk2B1DCQqQ1m",
        "outputId": "b11efa91-1673-4b44-de37-5e61c81fcf28"
      },
      "source": [
        "x_train_filter = constant_filter.transform(x_train)\n",
        "x_test_filter = constant_filter.transform(x_test)\n",
        "x_new_test_filter = constant_filter.transform(x_new_test)\n",
        "x_train_filter.shape, x_test_filter.shape, x_train.shape,x_new_test_filter.shape"
      ],
      "execution_count": 11,
      "outputs": [
        {
          "output_type": "execute_result",
          "data": {
            "text/plain": [
              "((13904, 622), (3476, 622), (13904, 26533), (1000, 622))"
            ]
          },
          "metadata": {},
          "execution_count": 11
        }
      ]
    },
    {
      "cell_type": "code",
      "metadata": {
        "id": "h-yOPe48qQzN"
      },
      "source": [
        "x_train_filter = pd.DataFrame(x_train_filter.toarray())\n",
        "x_test_filter = pd.DataFrame(x_test_filter.toarray())\n",
        "x_new_test_filter = pd.DataFrame(x_new_test_filter.toarray())"
      ],
      "execution_count": 12,
      "outputs": []
    },
    {
      "cell_type": "code",
      "metadata": {
        "id": "Lewr3adQqQvL"
      },
      "source": [
        "def get_correlation(data, threshold):\n",
        "    corr_col = set()\n",
        "    cormat = data.corr()\n",
        "    for i in range(len(cormat.columns)):\n",
        "        for j in range(i):\n",
        "            if abs(cormat.iloc[i,j]) > threshold:\n",
        "                colname = cormat.columns[i]\n",
        "                corr_col.add(colname)\n",
        "    return corr_col\n",
        "corr_features = get_correlation(x_train_filter, 0.70)"
      ],
      "execution_count": 13,
      "outputs": []
    },
    {
      "cell_type": "code",
      "metadata": {
        "colab": {
          "base_uri": "https://localhost:8080/"
        },
        "id": "AszdyIgZqQtC",
        "outputId": "f450470c-1b7c-4db5-f44f-11086b00743a"
      },
      "source": [
        "x_train_uncorr = x_train_filter.drop(labels= corr_features, axis = 1)\n",
        "x_test_uncorr = x_test_filter.drop(labels= corr_features, axis = 1)\n",
        "x_new_test_uncorr = x_new_test_filter.drop(labels= corr_features, axis = 1)\n",
        "x_train_uncorr = pd.DataFrame(x_train_uncorr)\n",
        "x_test_uncorr = pd.DataFrame(x_test_uncorr)\n",
        "x_new_test_uncorr = pd.DataFrame(x_new_test_uncorr)\n",
        "x_train_uncorr.shape, x_test_uncorr.shape, x_new_test_uncorr.shape"
      ],
      "execution_count": 14,
      "outputs": [
        {
          "output_type": "execute_result",
          "data": {
            "text/plain": [
              "((13904, 568), (3476, 568), (1000, 568))"
            ]
          },
          "metadata": {},
          "execution_count": 14
        }
      ]
    },
    {
      "cell_type": "code",
      "metadata": {
        "id": "NH97xK_g6rgq"
      },
      "source": [
        "x_train_uncorr=pd.concat([x_train_uncorr,pd.DataFrame(get_encoding_for_data(X_train_tweets),columns=['a','b','c','d','e','f'])],axis=1)\n",
        "x_test_uncorr=pd.concat([x_test_uncorr,pd.DataFrame(get_encoding_for_data(X_test_tweets),columns=['a','b','c','d','e','f'])],axis=1)\n"
      ],
      "execution_count": 15,
      "outputs": []
    },
    {
      "cell_type": "code",
      "metadata": {
        "colab": {
          "base_uri": "https://localhost:8080/"
        },
        "id": "KAv1JbNZHZG5",
        "outputId": "c75c089f-8b7a-4fdb-e00b-4ba732a9b253"
      },
      "source": [
        "## Train with SVM\n",
        "from sklearn import svm\n",
        "# Can be used to get a rough estimate of score, later we use grid search to find better parameters\n",
        "clf = svm.SVC(cache_size=10000,class_weight=\"balanced\")\n",
        "# Fit over encodings and labels(binary labels) of the data\n",
        "clf.fit(x_train_uncorr, y_train[\"label\"]) "
      ],
      "execution_count": 16,
      "outputs": [
        {
          "output_type": "stream",
          "name": "stderr",
          "text": [
            "/usr/local/lib/python3.7/dist-packages/sklearn/utils/validation.py:1679: FutureWarning: Feature names only support names that are all strings. Got feature names with dtypes: ['int', 'str']. An error will be raised in 1.2.\n",
            "  FutureWarning,\n"
          ]
        },
        {
          "output_type": "execute_result",
          "data": {
            "text/plain": [
              "SVC(cache_size=10000, class_weight='balanced')"
            ]
          },
          "metadata": {},
          "execution_count": 16
        }
      ]
    },
    {
      "cell_type": "code",
      "metadata": {
        "colab": {
          "base_uri": "https://localhost:8080/",
          "height": 493
        },
        "id": "QD4XnTcWHynb",
        "outputId": "e01cb9d1-81ac-4a54-ced4-56406d190f95"
      },
      "source": [
        "## Get predictions and obtain scores and confusion matrix\n",
        "import seaborn as sns\n",
        "from sklearn.metrics import classification_report, confusion_matrix\n",
        "\n",
        "predictions= clf.predict(x_test_uncorr)\n",
        "print(classification_report(y_test['label'], predictions,digits=4))\n",
        "cf_matrix = confusion_matrix(y_test['label'], predictions)\n",
        "sns.heatmap(cf_matrix, annot=True, fmt='g')\n",
        "print(\"X-axis: Obtained Labels Y-axis: Actual Labels\")"
      ],
      "execution_count": 17,
      "outputs": [
        {
          "output_type": "stream",
          "name": "stderr",
          "text": [
            "/usr/local/lib/python3.7/dist-packages/sklearn/utils/validation.py:1679: FutureWarning: Feature names only support names that are all strings. Got feature names with dtypes: ['int', 'str']. An error will be raised in 1.2.\n",
            "  FutureWarning,\n"
          ]
        },
        {
          "output_type": "stream",
          "name": "stdout",
          "text": [
            "              precision    recall  f1-score   support\n",
            "\n",
            "           0     0.8030    0.9314    0.8624      1982\n",
            "           1     0.8845    0.6968    0.7795      1494\n",
            "\n",
            "    accuracy                         0.8306      3476\n",
            "   macro avg     0.8437    0.8141    0.8209      3476\n",
            "weighted avg     0.8380    0.8306    0.8268      3476\n",
            "\n",
            "X-axis: Obtained Labels Y-axis: Actual Labels\n"
          ]
        },
        {
          "output_type": "display_data",
          "data": {
            "image/png": "[encoded data removed]",
            "text/plain": [
              "<Figure size 432x288 with 2 Axes>"
            ]
          },
          "metadata": {
            "needs_background": "light"
          }
        }
      ]
    },
    {
      "cell_type": "markdown",
      "metadata": {
        "id": "DS2e-h8GfkSG"
      },
      "source": [
        "Try your own sentence"
      ]
    },
    {
      "cell_type": "code",
      "metadata": {
        "colab": {
          "base_uri": "https://localhost:8080/"
        },
        "id": "b5fUCdI6fjy_",
        "outputId": "8083169e-4734-4b33-8b88-751cc6611b37"
      },
      "source": [
        "sentence=\"Waves of water killing people\"\n",
        "sentences=pd.DataFrame([sentence])\n",
        "sentences = sentences.apply(lambda x: str(x).lower())\n",
        "sentences = sentences.apply(lambda x: pos_selection(x))\n",
        "features=model.transform(sentences)\n",
        "filtered_sentence = constant_filter.transform(features)\n",
        "sentence_uncorr = pd.DataFrame(filtered_sentence.toarray()).drop(labels= corr_features, axis = 1)\n",
        "X=pd.concat([sentence_uncorr,pd.DataFrame([get_encoding_per_tweet(sentence)],columns=['a','b','c','d','e','f'])],axis=1)\n",
        "if clf.predict(X)[0]==1:\n",
        "  print(\"Critical Tweet\")\n",
        "else:\n",
        "  print(\"Not a Critical Tweet\")"
      ],
      "execution_count": 18,
      "outputs": [
        {
          "output_type": "stream",
          "name": "stdout",
          "text": [
            "Critical Tweet\n"
          ]
        },
        {
          "output_type": "stream",
          "name": "stderr",
          "text": [
            "/usr/local/lib/python3.7/dist-packages/sklearn/utils/validation.py:1679: FutureWarning: Feature names only support names that are all strings. Got feature names with dtypes: ['int', 'str']. An error will be raised in 1.2.\n",
            "  FutureWarning,\n"
          ]
        }
      ]
    }
  ]
}