{
  "nbformat": 4,
  "nbformat_minor": 0,
  "metadata": {
    "colab": {
      "name": "Data Preprocessing.ipynb",
      "provenance": [],
      "collapsed_sections": []
    },
    "kernelspec": {
      "name": "python3",
      "display_name": "Python 3"
    },
    "language_info": {
      "name": "python"
    }
  },
  "cells": [
    {
      "cell_type": "code",
      "metadata": {
        "id": "k2GSVfTD-dbz"
      },
      "source": [
        "import pandas as pd\n",
        "import numpy as np"
      ],
      "execution_count": 1,
      "outputs": []
    },
    {
      "cell_type": "code",
      "metadata": {
        "id": "aYiUHp_x-yWQ"
      },
      "source": [
        "#loading the dataset\n",
        "dataset = pd.read_csv('drive/MyDrive/NLP Project data/Floods_combined.csv')   #Link to original dataset"
      ],
      "execution_count": 2,
      "outputs": []
    },
    {
      "cell_type": "code",
      "metadata": {
        "colab": {
          "base_uri": "https://localhost:8080/",
          "height": 423
        },
        "id": "PcIwFr0g_BLA",
        "outputId": "39861485-fdaf-4c60-ed51-d523f408a69c"
      },
      "source": [
        "dataset"
      ],
      "execution_count": 3,
      "outputs": [
        {
          "output_type": "execute_result",
          "data": {
            "text/html": [
              "<div>\n",
              "<style scoped>\n",
              "    .dataframe tbody tr th:only-of-type {\n",
              "        vertical-align: middle;\n",
              "    }\n",
              "\n",
              "    .dataframe tbody tr th {\n",
              "        vertical-align: top;\n",
              "    }\n",
              "\n",
              "    .dataframe thead th {\n",
              "        text-align: right;\n",
              "    }\n",
              "</style>\n",
              "<table border=\"1\" class=\"dataframe\">\n",
              "  <thead>\n",
              "    <tr style=\"text-align: right;\">\n",
              "      <th></th>\n",
              "      <th>Unnamed: 0</th>\n",
              "      <th>id</th>\n",
              "      <th>tweets</th>\n",
              "      <th>label</th>\n",
              "    </tr>\n",
              "  </thead>\n",
              "  <tbody>\n",
              "    <tr>\n",
              "      <th>0</th>\n",
              "      <td>8074</td>\n",
              "      <td>8074</td>\n",
              "      <td>Our credit taking operation on social media is...</td>\n",
              "      <td>0</td>\n",
              "    </tr>\n",
              "    <tr>\n",
              "      <th>1</th>\n",
              "      <td>4207</td>\n",
              "      <td>4207</td>\n",
              "      <td>Israeli startup warned Chiles citizens of tsun...</td>\n",
              "      <td>0</td>\n",
              "    </tr>\n",
              "    <tr>\n",
              "      <th>2</th>\n",
              "      <td>3127</td>\n",
              "      <td>3127</td>\n",
              "      <td>My thoughts are with my friends  neighbors in ...</td>\n",
              "      <td>0</td>\n",
              "    </tr>\n",
              "    <tr>\n",
              "      <th>3</th>\n",
              "      <td>5756</td>\n",
              "      <td>5756</td>\n",
              "      <td>Canine Disaster Search Teams enroute to Nepal ...</td>\n",
              "      <td>0</td>\n",
              "    </tr>\n",
              "    <tr>\n",
              "      <th>4</th>\n",
              "      <td>3958</td>\n",
              "      <td>3958</td>\n",
              "      <td>NEW Tsunami WARNING for Chile  Peru via  Magni...</td>\n",
              "      <td>0</td>\n",
              "    </tr>\n",
              "    <tr>\n",
              "      <th>...</th>\n",
              "      <td>...</td>\n",
              "      <td>...</td>\n",
              "      <td>...</td>\n",
              "      <td>...</td>\n",
              "    </tr>\n",
              "    <tr>\n",
              "      <th>17375</th>\n",
              "      <td>23584</td>\n",
              "      <td>23584</td>\n",
              "      <td>Pungovt claims CMSS took  helicopter flightsSo...</td>\n",
              "      <td>0</td>\n",
              "    </tr>\n",
              "    <tr>\n",
              "      <th>17376</th>\n",
              "      <td>23585</td>\n",
              "      <td>23585</td>\n",
              "      <td>Pakistan Flood Sinks Boat Carrying Wedding Par...</td>\n",
              "      <td>1</td>\n",
              "    </tr>\n",
              "    <tr>\n",
              "      <th>17377</th>\n",
              "      <td>23586</td>\n",
              "      <td>23586</td>\n",
              "      <td>Jammu and Kashmir Floods Yasin Malik Creates H...</td>\n",
              "      <td>0</td>\n",
              "    </tr>\n",
              "    <tr>\n",
              "      <th>17378</th>\n",
              "      <td>23587</td>\n",
              "      <td>23587</td>\n",
              "      <td>Please use Kashmir Flood hashtag only if u nee...</td>\n",
              "      <td>0</td>\n",
              "    </tr>\n",
              "    <tr>\n",
              "      <th>17379</th>\n",
              "      <td>23588</td>\n",
              "      <td>23588</td>\n",
              "      <td>Raging Floods Kill Over  in Pakistan India  AB...</td>\n",
              "      <td>1</td>\n",
              "    </tr>\n",
              "  </tbody>\n",
              "</table>\n",
              "<p>17380 rows × 4 columns</p>\n",
              "</div>"
            ],
            "text/plain": [
              "       Unnamed: 0  ...  label\n",
              "0            8074  ...      0\n",
              "1            4207  ...      0\n",
              "2            3127  ...      0\n",
              "3            5756  ...      0\n",
              "4            3958  ...      0\n",
              "...           ...  ...    ...\n",
              "17375       23584  ...      0\n",
              "17376       23585  ...      1\n",
              "17377       23586  ...      0\n",
              "17378       23587  ...      0\n",
              "17379       23588  ...      1\n",
              "\n",
              "[17380 rows x 4 columns]"
            ]
          },
          "metadata": {},
          "execution_count": 3
        }
      ]
    },
    {
      "cell_type": "code",
      "metadata": {
        "colab": {
          "base_uri": "https://localhost:8080/"
        },
        "id": "2Xpwq8UTCA-v",
        "outputId": "e177a18f-0249-42a9-cb5f-3e5b64ca60bd"
      },
      "source": [
        "dataset['label'].value_counts()"
      ],
      "execution_count": 4,
      "outputs": [
        {
          "output_type": "execute_result",
          "data": {
            "text/plain": [
              "0    12743\n",
              "1     4637\n",
              "Name: label, dtype: int64"
            ]
          },
          "metadata": {},
          "execution_count": 4
        }
      ]
    },
    {
      "cell_type": "code",
      "metadata": {
        "id": "KqOy5UgM_1nh"
      },
      "source": [
        "positive = ['injured_or_dead_people', 'missing_trapped_or_found_people', 'displaced_people_and_evacuations', 'infrastructure_and_utilities_damage']\n",
        "negative = ['donation_needs_or_offers_or_volunteering_services', 'caution_and_advice', 'sympathy_and_emotional_support', 'other_useful_information', 'not_related_or_irrelevant']\n",
        "\n",
        "\n",
        "for index, row in dataset.iterrows():\n",
        "  if row['label'] in positive:\n",
        "    row['label']=1\n",
        "  elif row['label'] in negative:\n",
        "    row['label'] = 0"
      ],
      "execution_count": null,
      "outputs": []
    },
    {
      "cell_type": "code",
      "metadata": {
        "colab": {
          "base_uri": "https://localhost:8080/"
        },
        "id": "x_SWtx7bBId7",
        "outputId": "f4a82943-be62-4e24-9cd5-d5215e0da98d"
      },
      "source": [
        "dataset['label'].value_counts()"
      ],
      "execution_count": null,
      "outputs": [
        {
          "output_type": "execute_result",
          "data": {
            "text/plain": [
              "0    2095\n",
              "1    1494\n",
              "Name: label, dtype: int64"
            ]
          },
          "metadata": {},
          "execution_count": 7
        }
      ]
    },
    {
      "cell_type": "code",
      "metadata": {
        "id": "d6qT_mRcr03e"
      },
      "source": [
        "# #Reading OOV words and forming a dictionary\n",
        "def OOV_dict(path_to_OOV):\n",
        "  import pandas as pd\n",
        "  OOV = pd.read_csv (path_to_OOV,sep='\\t',header=None)\n",
        "  dictionary_OOV={}\n",
        "  for row in OOV.iterrows():\n",
        "    dictionary_OOV[row[1][0]]=row[1][1]\n",
        "  return dictionary_OOV\n",
        "\n",
        "oov_dict = OOV_dict(\"https://0f41bdd6-d0a9-458e-937c-838e849bb6f4.usrfiles.com/ugd/0f41bd_89f0c122dbf6433183f7add90a28ec33.csv\")"
      ],
      "execution_count": null,
      "outputs": []
    },
    {
      "cell_type": "code",
      "metadata": {
        "id": "Zz6G7QL4BJsY"
      },
      "source": [
        "pp_df = pd.DataFrame()\n",
        "pp_df['tweets'] = dataset.tweet_text"
      ],
      "execution_count": null,
      "outputs": []
    },
    {
      "cell_type": "code",
      "metadata": {
        "colab": {
          "base_uri": "https://localhost:8080/",
          "height": 206
        },
        "id": "fGD1czZ8DswC",
        "outputId": "b7d4afac-203a-4dc1-e43b-34e20a10d455"
      },
      "source": [
        "pp_df.head()"
      ],
      "execution_count": null,
      "outputs": [
        {
          "output_type": "execute_result",
          "data": {
            "text/html": [
              "<div>\n",
              "<style scoped>\n",
              "    .dataframe tbody tr th:only-of-type {\n",
              "        vertical-align: middle;\n",
              "    }\n",
              "\n",
              "    .dataframe tbody tr th {\n",
              "        vertical-align: top;\n",
              "    }\n",
              "\n",
              "    .dataframe thead th {\n",
              "        text-align: right;\n",
              "    }\n",
              "</style>\n",
              "<table border=\"1\" class=\"dataframe\">\n",
              "  <thead>\n",
              "    <tr style=\"text-align: right;\">\n",
              "      <th></th>\n",
              "      <th>tweets</th>\n",
              "    </tr>\n",
              "  </thead>\n",
              "  <tbody>\n",
              "    <tr>\n",
              "      <th>0</th>\n",
              "      <td>Prayers for Cabo: Hurricane Odile Roars Throug...</td>\n",
              "    </tr>\n",
              "    <tr>\n",
              "      <th>1</th>\n",
              "      <td>Sammy Hagar's Home Damaged in Hurricane: Sammy...</td>\n",
              "    </tr>\n",
              "    <tr>\n",
              "      <th>2</th>\n",
              "      <td>Residents, Tourists Sent to Shelters as Hurric...</td>\n",
              "    </tr>\n",
              "    <tr>\n",
              "      <th>3</th>\n",
              "      <td>Our thoughts go out to all of our friends in L...</td>\n",
              "    </tr>\n",
              "    <tr>\n",
              "      <th>4</th>\n",
              "      <td>Does anyone have information on emergency serv...</td>\n",
              "    </tr>\n",
              "  </tbody>\n",
              "</table>\n",
              "</div>"
            ],
            "text/plain": [
              "                                              tweets\n",
              "0  Prayers for Cabo: Hurricane Odile Roars Throug...\n",
              "1  Sammy Hagar's Home Damaged in Hurricane: Sammy...\n",
              "2  Residents, Tourists Sent to Shelters as Hurric...\n",
              "3  Our thoughts go out to all of our friends in L...\n",
              "4  Does anyone have information on emergency serv..."
            ]
          },
          "metadata": {},
          "execution_count": 31
        }
      ]
    },
    {
      "cell_type": "code",
      "metadata": {
        "colab": {
          "base_uri": "https://localhost:8080/",
          "height": 206
        },
        "id": "hTqecudY2crV",
        "outputId": "e887ff9c-3019-4636-8098-c5c052aa516e"
      },
      "source": [
        "# Replacing OOV words\n",
        "for index, row in pp_df.iterrows():\n",
        "  sent_list = row['tweets'].split()\n",
        "  for i in range(len(sent_list)):\n",
        "    if sent_list[i] in oov_dict.keys():\n",
        "      sent_list[i] = oov_dict[sent_list[i]]\n",
        "  updated_sent = \" \"\n",
        "  updated_sent = updated_sent.join(sent_list)\n",
        "  row['tweets'] = updated_sent"
      ],
      "execution_count": null,
      "outputs": [
        {
          "output_type": "execute_result",
          "data": {
            "text/html": [
              "<div>\n",
              "<style scoped>\n",
              "    .dataframe tbody tr th:only-of-type {\n",
              "        vertical-align: middle;\n",
              "    }\n",
              "\n",
              "    .dataframe tbody tr th {\n",
              "        vertical-align: top;\n",
              "    }\n",
              "\n",
              "    .dataframe thead th {\n",
              "        text-align: right;\n",
              "    }\n",
              "</style>\n",
              "<table border=\"1\" class=\"dataframe\">\n",
              "  <thead>\n",
              "    <tr style=\"text-align: right;\">\n",
              "      <th></th>\n",
              "      <th>tweets</th>\n",
              "    </tr>\n",
              "  </thead>\n",
              "  <tbody>\n",
              "    <tr>\n",
              "      <th>0</th>\n",
              "      <td>Prayers for Cabo: Hurricane Odile Roars Throug...</td>\n",
              "    </tr>\n",
              "    <tr>\n",
              "      <th>1</th>\n",
              "      <td>Sammy Hagar's Home Damaged in Hurricane: Sammy...</td>\n",
              "    </tr>\n",
              "    <tr>\n",
              "      <th>2</th>\n",
              "      <td>Residents, Tourists Sent to Shelters as Hurric...</td>\n",
              "    </tr>\n",
              "    <tr>\n",
              "      <th>3</th>\n",
              "      <td>Our thoughts go out to all of our friends in L...</td>\n",
              "    </tr>\n",
              "    <tr>\n",
              "      <th>4</th>\n",
              "      <td>Does anyone have information on emergency serv...</td>\n",
              "    </tr>\n",
              "  </tbody>\n",
              "</table>\n",
              "</div>"
            ],
            "text/plain": [
              "                                              tweets\n",
              "0  Prayers for Cabo: Hurricane Odile Roars Throug...\n",
              "1  Sammy Hagar's Home Damaged in Hurricane: Sammy...\n",
              "2  Residents, Tourists Sent to Shelters as Hurric...\n",
              "3  Our thoughts go out to all of our friends in L...\n",
              "4  Does anyone have information on emergency serv..."
            ]
          },
          "metadata": {},
          "execution_count": 32
        }
      ]
    },
    {
      "cell_type": "code",
      "metadata": {
        "id": "G1rLhXzUD9Zl"
      },
      "source": [
        "# Removing the URLs\n",
        "import re\n",
        "# https or http URLs\n",
        "pp_df['tweets'] = pp_df['tweets'].apply(lambda x: re.sub(r'https?:\\/\\/\\S+', '', x))\n",
        "pp_df['tweets'] = pp_df['tweets'].apply(lambda x: re.sub(r'http?:\\/\\/\\S+', '', x))\n",
        "\n",
        "# www. URLs\n",
        "pp_df['tweets'] = pp_df['tweets'].apply(lambda x: re.sub(r\"www\\.[a-z]?\\.?(com)+|[a-z]+\\.(com)\", '', x))\n",
        "\n",
        "# removing [video] and [Video]\n",
        "pp_df['tweets'] = pp_df['tweets'].apply(lambda x: re.sub(r\"\\[video\\]\", '', x))\n",
        "pp_df['tweets'] = pp_df['tweets'].apply(lambda x: re.sub(r\"\\[Video\\]\", '', x))"
      ],
      "execution_count": null,
      "outputs": []
    },
    {
      "cell_type": "code",
      "metadata": {
        "id": "pOE9VMQ_EKwA"
      },
      "source": [
        "# Removing HTML Reference Characters\n",
        "pp_df['tweets'] = pp_df['tweets'].apply(lambda x: re.sub(r'&[a-z]+;', '', x))\n",
        "\n",
        "#Removing @ mentions\n",
        "pp_df['tweets'] = pp_df['tweets'].apply(lambda x: re.sub(r'(\\s)@\\w+', r'\\1',x))\n"
      ],
      "execution_count": null,
      "outputs": []
    },
    {
      "cell_type": "code",
      "metadata": {
        "id": "uWiZf6ooGxLb"
      },
      "source": [
        "#Removing # symbols\n",
        "pp_df['tweets'] = pp_df['tweets'].apply(lambda x: re.sub(r\"#\",'',x))"
      ],
      "execution_count": null,
      "outputs": []
    },
    {
      "cell_type": "code",
      "metadata": {
        "id": "UU1NPcaxIw-1"
      },
      "source": [
        "#Removing RT symbols\n",
        "pp_df['tweets'] = pp_df['tweets'].apply(lambda x: re.sub(r\"RT\",'',x))\n",
        "\n",
        "#for punctuation marks\n",
        "pp_df['tweets'] = pp_df['tweets'].apply(lambda x: re.sub(r'[.,`\"-?:!;【】|@♨😔…°→”“😂☀❤\\[\\]▼💡’‘🙈👏~🙏¦»♦♥•😒✔—👌💝¤😩😟😁😪🎉😢💗↑💖🍃☯╚►➡✋☇⬅✡£😚♫Ü🌎🙌✞🙉😜👊✨🎊►💜↓🎋🎉😋😭💃♛😱☺➤✪￼_😦💕✌️😃💙🌞😍😊😅🎵🙍🙇😞💔😖♡😳★😕😨📚📖✏️😛👼]','',x))\n",
        "\n",
        "#Striping the white spaces\n",
        "pp_df['tweets'] = pp_df['tweets'].apply(lambda x: x.strip())"
      ],
      "execution_count": null,
      "outputs": []
    },
    {
      "cell_type": "code",
      "metadata": {
        "id": "lulMcTMX-H1p"
      },
      "source": [
        "#Adding labels to preprocessed Tweets\n",
        "pp_df['label'] = dataset['label']"
      ],
      "execution_count": null,
      "outputs": []
    },
    {
      "cell_type": "code",
      "metadata": {
        "id": "0A4jb5eXLXoA"
      },
      "source": [
        "pp_df.to_csv('pp_tweets.csv')"
      ],
      "execution_count": null,
      "outputs": []
    },
    {
      "cell_type": "code",
      "metadata": {
        "id": "lA1MFpcWPZ9Z"
      },
      "source": [
        ""
      ],
      "execution_count": null,
      "outputs": []
    }
  ]
}