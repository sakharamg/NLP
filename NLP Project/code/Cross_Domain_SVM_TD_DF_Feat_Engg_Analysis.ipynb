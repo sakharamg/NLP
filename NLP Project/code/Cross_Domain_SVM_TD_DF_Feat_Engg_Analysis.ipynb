{
  "nbformat": 4,
  "nbformat_minor": 0,
  "metadata": {
    "colab": {
      "name": "Cross Domain Analysis.ipynb",
      "provenance": [],
      "collapsed_sections": []
    },
    "kernelspec": {
      "name": "python3",
      "display_name": "Python 3"
    },
    "language_info": {
      "name": "python"
    }
  },
  "cells": [
    {
      "cell_type": "code",
      "metadata": {
        "id": "UfPTrWvr_jSb"
      },
      "source": [
        "import pandas as pd\n",
        "import numpy as np\n",
        "from sklearn.model_selection import train_test_split\n",
        "\n",
        "## Function to load tweets along with their label and id\n",
        "def load_data(path):\n",
        "  return pd.read_csv(path)[[\"id\",\"tweets\",\"label\"]]"
      ],
      "execution_count": null,
      "outputs": []
    },
    {
      "cell_type": "code",
      "metadata": {
        "id": "Nir7plQrAM3p"
      },
      "source": [
        "## Load the preprocessed tweets\n",
        "# tweets=load_data(\"https://0f41bdd6-d0a9-458e-937c-838e849bb6f4.usrfiles.com/ugd/0f41bd_a47a32f4144e4c0b9bf5505967c87853.csv\")\n",
        "# test_tweets = pd.read_csv('https://0f41bdd6-d0a9-458e-937c-838e849bb6f4.usrfiles.com/ugd/0f41bd_8fcf459d1c1b4906a9e488335bdc9dec.csv')\n",
        "\n",
        "## Loading Individual Disaster Data \n",
        "earthquake_tweets=load_data(\"https://0f41bdd6-d0a9-458e-937c-838e849bb6f4.usrfiles.com/ugd/0f41bd_a47a32f4144e4c0b9bf5505967c87853.csv\")\n",
        "floods_tweets=load_data(\"https://0f41bdd6-d0a9-458e-937c-838e849bb6f4.usrfiles.com/ugd/0f41bd_b0834f4bc821415e82a5981cf251a69d.csv\")\n",
        "hurricane_tweets=load_data(\"https://0f41bdd6-d0a9-458e-937c-838e849bb6f4.usrfiles.com/ugd/0f41bd_6e3a5a63ab3a4b8eaa37ae30f736f0ae.csv\")\n",
        "combined_tweets=load_data(\"https://0f41bdd6-d0a9-458e-937c-838e849bb6f4.usrfiles.com/ugd/0f41bd_520705b60d3149cf990572133108dffc.csv\")\n",
        "\n"
      ],
      "execution_count": null,
      "outputs": []
    },
    {
      "cell_type": "markdown",
      "metadata": {
        "id": "HoF2wNlNlm87"
      },
      "source": [
        "Data Analysis\n",
        "\n",
        "https://colab.research.google.com/drive/1DLoVMkGTGFtNh9nAFCq4ppe_4K8ETono?usp=sharing"
      ]
    },
    {
      "cell_type": "code",
      "metadata": {
        "colab": {
          "base_uri": "https://localhost:8080/"
        },
        "id": "8i6KmU31CVb7",
        "outputId": "103d17ca-6913-4bb2-b422-3ce6d7fd7fa7"
      },
      "source": [
        "import nltk\n",
        "nltk.download('stopwords')\n",
        "from sklearn import feature_extraction, model_selection, naive_bayes, pipeline, manifold, preprocessing"
      ],
      "execution_count": null,
      "outputs": [
        {
          "output_type": "stream",
          "name": "stdout",
          "text": [
            "[nltk_data] Downloading package stopwords to /root/nltk_data...\n",
            "[nltk_data]   Package stopwords is already up-to-date!\n"
          ]
        }
      ]
    },
    {
      "cell_type": "code",
      "metadata": {
        "id": "P4PFGoAmFN6K"
      },
      "source": [
        "lst_stopwords = nltk.corpus.stopwords.words(\"english\")"
      ],
      "execution_count": null,
      "outputs": []
    },
    {
      "cell_type": "code",
      "metadata": {
        "colab": {
          "base_uri": "https://localhost:8080/"
        },
        "id": "-395ZxYmNjYR",
        "outputId": "7f7ab98b-340b-4639-cc02-732f9ef0bb55"
      },
      "source": [
        "from nltk.tokenize import sent_tokenize, word_tokenize\n",
        "nltk.download('punkt')\n",
        "import nltk\n",
        "nltk.download('averaged_perceptron_tagger')\n",
        "def pos(text):\n",
        "    pos=nltk.pos_tag(word_tokenize(text))\n",
        "    pos=list(map(list,zip(*pos)))[1]\n",
        "    return pos"
      ],
      "execution_count": null,
      "outputs": [
        {
          "output_type": "stream",
          "name": "stdout",
          "text": [
            "[nltk_data] Downloading package punkt to /root/nltk_data...\n",
            "[nltk_data]   Package punkt is already up-to-date!\n",
            "[nltk_data] Downloading package averaged_perceptron_tagger to\n",
            "[nltk_data]     /root/nltk_data...\n",
            "[nltk_data]   Package averaged_perceptron_tagger is already up-to-\n",
            "[nltk_data]       date!\n"
          ]
        }
      ]
    },
    {
      "cell_type": "code",
      "metadata": {
        "id": "Inq3dD2OcXVX"
      },
      "source": [
        "X_train_earthquake, X_test_earthquake, y_train_earthquake, y_test_earthquake = train_test_split(earthquake_tweets[['id','tweets']], earthquake_tweets[['id','label']], test_size=0.2, shuffle=False)\n",
        "X_train_floods, X_test_floods, y_train_floods, y_test_floods = train_test_split(floods_tweets[['id','tweets']], floods_tweets[['id','label']], test_size=0.2, shuffle=False)\n",
        "X_train_hurricane, X_test_hurricane, y_train_hurricane, y_test_hurricane = train_test_split(hurricane_tweets[['id','tweets']], hurricane_tweets[['id','label']], test_size=0.2, shuffle=False)\n",
        "X_train_combined, X_test_combined, y_train_combined, y_test_combined = train_test_split(combined_tweets[['id','tweets']], combined_tweets[['id','label']], test_size=0.2, shuffle=False)\n"
      ],
      "execution_count": null,
      "outputs": []
    },
    {
      "cell_type": "markdown",
      "metadata": {
        "id": "o3VO5dBSgIJ1"
      },
      "source": [
        "##Model Trained on Earthquake data"
      ]
    },
    {
      "cell_type": "code",
      "metadata": {
        "colab": {
          "base_uri": "https://localhost:8080/"
        },
        "id": "b839VPragMkD",
        "outputId": "cf20a972-b818-4abe-ce0b-58f558b8c993"
      },
      "source": [
        "import nltk\n",
        "from nltk.sentiment.vader import SentimentIntensityAnalyzer\n",
        "nltk.download('vader_lexicon')\n",
        "sid = SentimentIntensityAnalyzer()\n",
        "def get_vader_score(sent):\n",
        "    # Polarity score returns dictionary\n",
        "    ss = sid.polarity_scores(sent)\n",
        "    #return ss\n",
        "    return np.argmax(list(ss.values())[:-1])\n",
        "def get_encoding_per_tweet(tweet):\n",
        "  encoding=[]\n",
        "  tweet=tweet.lower()\n",
        "\n",
        "  # TWEET RELATED TO EARTHQUAKE\n",
        "  if \"earthquake\" in tweet:\n",
        "    encoding.append(1)\n",
        "  else:\n",
        "    encoding.append(0)\n",
        "\n",
        "  # TWEETS RELATED TO INJURIES AND DEATHS\n",
        "  if \"death\" in tweet and \"toll\" in tweet or 'victim' in tweet or \"injur\" in tweet:\n",
        "    encoding.append(1) # Can call another function in place of \"0\" which will give first encoding\n",
        "  else:\n",
        "    encoding.append(0) # Can call another function in place of \"1\" which will give second encoding\n",
        "  encoding.append(get_vader_score(tweet))\n",
        "\n",
        "  if \"dozens\" in tweet or \"thousands\" in tweet or  \"hundreds\" in tweet:\n",
        "    encoding.append(1) # Can call another function in place of \"0\" which will give first encoding\n",
        "  else:\n",
        "    encoding.append(0) # Can call another function in place of \"1\" which will give second encoding\n",
        "\n",
        "  #TWEETS RELATED TO MISSING OR MISPLACED PEOPLE\n",
        "  if \"miss\" in tweet or \"evacuat\" in tweet or \"displac\" in tweet or \"lost\" in tweet or \"relocat\" in tweet :\n",
        "    encoding.append(1) # Can call another function in place of \"0\" which will give first encoding\n",
        "  else:\n",
        "    encoding.append(0) # Can call another function in place of \"1\" which will give second encoding\n",
        "  \n",
        "  #TWEETS THAT TALK ABOUT FIRES AND TSUNAMI\n",
        "  if \"fire\" in tweet or \"tsunami\" in tweet:\n",
        "    encoding.append(1) # Can call another function in place of \"0\" which will give first encoding\n",
        "  else:\n",
        "    encoding.append(0) # Can call another function in place of \"1\" which will give second encoding\n",
        "  \n",
        "  return encoding\n",
        "\n",
        "\n",
        "## Get Encodings for all tweets [train or test, whichever supplied]\n",
        "def get_encoding_for_data(data):\n",
        "  X=[]\n",
        "  # Get encoding for each tweet in the data(set of tweets)\n",
        "  for tweet_id,tweet in zip(data['id'],data['tweets']):\n",
        "    X.append(get_encoding_per_tweet(tweet))\n",
        "  return X\n",
        "\n",
        "\n",
        "\n",
        "X_train_earthquake['tweets'] = X_train_earthquake['tweets'].apply(lambda x: x.lower())\n",
        "X_test_earthquake['tweets'] = X_test_earthquake['tweets'].apply(lambda x:x.lower())\n",
        "X_test_floods['tweets'] = X_test_floods['tweets'].apply(lambda x:x.lower())\n",
        "X_test_hurricane['tweets'] = X_test_hurricane['tweets'].apply(lambda x:x.lower())\n",
        "X_test_combined['tweets'] = X_test_combined['tweets'].apply(lambda x:x.lower())\n",
        "\n",
        "\n",
        "def remove_stopwords(tweet, stopwords_list):\n",
        "  tweet = tweet.split()\n",
        "  fin_list = []\n",
        "  for word in tweet:\n",
        "    if word not in stopwords_list:\n",
        "      fin_list.append(word)\n",
        "  \n",
        "  updated_sent = \" \"\n",
        "  updated_sent = updated_sent.join(fin_list)\n",
        "  return updated_sent\n",
        "\n",
        "def pos_selection(tweet):\n",
        "  pos_list=pos(tweet)\n",
        "  tweet = tweet.split()\n",
        "  fin_list = []\n",
        "  for tag,word in zip(pos_list,tweet):\n",
        "    if \"VB\" in tag or \"JJ\" in tag or \"RB\" in tag or \"NN\" in tag:\n",
        "      if \"NNP\" not in tag: \n",
        "        fin_list.append(word)\n",
        "  \n",
        "  updated_sent = \" \"\n",
        "  updated_sent = updated_sent.join(fin_list)\n",
        "  return updated_sent\n",
        "\n",
        "\n",
        "X_train_earthquake['tweets'] = X_train_earthquake['tweets'].apply(lambda x: pos_selection(x))\n",
        "X_test_earthquake['tweets'] = X_test_earthquake['tweets'].apply(lambda x:pos_selection(x))\n",
        "X_test_floods['tweets'] = X_test_floods['tweets'].apply(lambda x:pos_selection(x))\n",
        "X_test_hurricane['tweets'] = X_test_hurricane['tweets'].apply(lambda x:pos_selection(x))\n",
        "X_test_combined['tweets'] = X_test_combined['tweets'].apply(lambda x:pos_selection(x))\n",
        "\n",
        "# tweets['tweets'] = tweets['tweets'].apply(lambda x: pos_selection(x))\n",
        "# tweets['tweets'] = tweets['tweets'].apply(lambda x: remove_stopwords(x,lst_stopwords))\n",
        "# test_tweets['tweets'] = test_tweets['tweets'].apply(lambda x: remove_stopwords(x,lst_stopwords))\n",
        "\n",
        "\n",
        "\n",
        "from sklearn.feature_extraction.text import TfidfVectorizer\n",
        "tfidf = TfidfVectorizer(min_df=2,max_df=0.5, ngram_range=(1,3))\n",
        "model=tfidf.fit(X_train_earthquake['tweets'])\n",
        "features=model.transform(X_train_earthquake['tweets'])\n",
        "features_test_earthquake=model.transform(X_test_earthquake['tweets'])\n",
        "features_test_floods=model.transform(X_test_floods['tweets'])\n",
        "features_test_hurricane=model.transform(X_test_hurricane['tweets'])\n",
        "features_test_combined=model.transform(X_test_combined['tweets'])\n",
        "\n",
        "x_train=features\n",
        "x_test_earthquake=features_test_earthquake\n",
        "x_test_floods=features_test_floods\n",
        "x_test_hurricane=features_test_hurricane\n",
        "x_test_combined=features_test_combined\n",
        "\n",
        "\n",
        "# x_new_test=model.transform(test_tweets['tweets'])\n",
        "\n",
        "\n",
        "# REMOVING LOW VARIANCE FEATURES\n",
        "from sklearn.feature_selection import VarianceThreshold\n",
        "constant_filter = VarianceThreshold(threshold = 0.0002)\n",
        "constant_filter.fit(x_train)\n",
        "# feature_list = x_train\n",
        "# print('Number of selected features: ' ,len(list(feature_list)),'\\n')\n",
        "# print('List of selected features: \\n' ,list(feature_list))\n",
        "\n",
        "\n",
        "x_train_filter = constant_filter.transform(x_train)\n",
        "x_test_filter_earthquake = constant_filter.transform(x_test_earthquake)\n",
        "x_test_filter_floods = constant_filter.transform(x_test_floods)\n",
        "x_test_filter_hurricane = constant_filter.transform(x_test_hurricane)\n",
        "x_test_filter_combined = constant_filter.transform(x_test_combined)\n",
        "\n",
        "# x_new_test_filter = constant_filter.transform(x_new_test)\n",
        "# x_train_filter.shape, x_test_filter.shape, x_train.shape,x_new_test_filter.shape\n",
        "\n",
        "x_train_filter = pd.DataFrame(x_train_filter.toarray())\n",
        "x_test_filter_earthquake = pd.DataFrame(x_test_filter_earthquake.toarray())\n",
        "x_test_filter_floods = pd.DataFrame(x_test_filter_floods.toarray())\n",
        "x_test_filter_hurricane = pd.DataFrame(x_test_filter_hurricane.toarray())\n",
        "x_test_filter_combined = pd.DataFrame(x_test_filter_combined.toarray())\n",
        "\n",
        "\n",
        "# x_new_test_filter = pd.DataFrame(x_new_test_filter.toarray())\n",
        "\n",
        "\n",
        "def get_correlation(data, threshold):\n",
        "    corr_col = set()\n",
        "    cormat = data.corr()\n",
        "    for i in range(len(cormat.columns)):\n",
        "        for j in range(i):\n",
        "            if abs(cormat.iloc[i,j]) > threshold:\n",
        "                colname = cormat.columns[i]\n",
        "                corr_col.add(colname)\n",
        "    return corr_col\n",
        "corr_features = get_correlation(x_train_filter, 0.70)"
      ],
      "execution_count": null,
      "outputs": [
        {
          "output_type": "stream",
          "name": "stdout",
          "text": [
            "[nltk_data] Downloading package vader_lexicon to /root/nltk_data...\n",
            "[nltk_data]   Package vader_lexicon is already up-to-date!\n"
          ]
        }
      ]
    },
    {
      "cell_type": "code",
      "metadata": {
        "id": "9Kso77K0g3zz"
      },
      "source": [
        "x_train_uncorr = x_train_filter.drop(labels= corr_features, axis = 1)\n",
        "x_test_uncorr_earthquake = x_test_filter_earthquake.drop(labels= corr_features, axis = 1)\n",
        "x_test_uncorr_floods = x_test_filter_floods.drop(labels= corr_features, axis = 1)\n",
        "x_test_uncorr_hurricane = x_test_filter_hurricane.drop(labels= corr_features, axis = 1)\n",
        "x_test_uncorr_combined = x_test_filter_combined.drop(labels= corr_features, axis = 1)\n",
        "\n",
        "# x_new_test_uncorr = x_new_test_filter.drop(labels= corr_features, axis = 1)\n",
        "\n",
        "x_train_uncorr = pd.DataFrame(x_train_uncorr)\n",
        "x_test_uncorr_earthquake = pd.DataFrame(x_test_uncorr_earthquake)\n",
        "x_test_uncorr_floods = pd.DataFrame(x_test_uncorr_floods)\n",
        "x_test_uncorr_hurricane = pd.DataFrame(x_test_uncorr_hurricane)\n",
        "x_test_uncorr_combined = pd.DataFrame(x_test_uncorr_combined)\n",
        "\n",
        "# x_new_test_uncorr = pd.DataFrame(x_new_test_uncorr)\n",
        "# x_train_uncorr.shape, x_test_uncorr.shape, x_new_test_uncorr.shape"
      ],
      "execution_count": null,
      "outputs": []
    },
    {
      "cell_type": "code",
      "metadata": {
        "id": "RNUTetj_g30R"
      },
      "source": [
        "x_train_uncorr=pd.concat([x_train_uncorr,pd.DataFrame(get_encoding_for_data(X_train_earthquake),columns=['a','b','c','d','e','f'])],axis=1)\n",
        "x_test_uncorr_earthquake=pd.concat([x_test_uncorr_earthquake,pd.DataFrame(get_encoding_for_data(X_test_earthquake),columns=['a','b','c','d','e','f'])],axis=1)\n",
        "x_test_uncorr_floods=pd.concat([x_test_uncorr_floods,pd.DataFrame(get_encoding_for_data(X_test_floods),columns=['a','b','c','d','e','f'])],axis=1)\n",
        "x_test_uncorr_hurricane=pd.concat([x_test_uncorr_hurricane,pd.DataFrame(get_encoding_for_data(X_test_hurricane),columns=['a','b','c','d','e','f'])],axis=1)\n",
        "x_test_uncorr_combined=pd.concat([x_test_uncorr_combined,pd.DataFrame(get_encoding_for_data(X_test_combined),columns=['a','b','c','d','e','f'])],axis=1)\n",
        "\n"
      ],
      "execution_count": null,
      "outputs": []
    },
    {
      "cell_type": "code",
      "metadata": {
        "colab": {
          "base_uri": "https://localhost:8080/"
        },
        "id": "FIl8Yl5Wg30S",
        "outputId": "82a34a2c-1305-4af6-a8a2-c0c1c5c7b19b"
      },
      "source": [
        "## Train with SVM\n",
        "from sklearn import svm\n",
        "# Can be used to get a rough estimate of score, later we use grid search to find better parameters\n",
        "clf = svm.SVC(cache_size=10000,class_weight=\"balanced\")\n",
        "# Fit over encodings and labels(binary labels) of the data\n",
        "clf.fit(x_train_uncorr, y_train_earthquake[\"label\"]) "
      ],
      "execution_count": null,
      "outputs": [
        {
          "output_type": "stream",
          "name": "stderr",
          "text": [
            "/usr/local/lib/python3.7/dist-packages/sklearn/utils/validation.py:1679: FutureWarning: Feature names only support names that are all strings. Got feature names with dtypes: ['int', 'str']. An error will be raised in 1.2.\n",
            "  FutureWarning,\n"
          ]
        },
        {
          "output_type": "execute_result",
          "data": {
            "text/plain": [
              "SVC(cache_size=10000, class_weight='balanced')"
            ]
          },
          "metadata": {},
          "execution_count": 29
        }
      ]
    },
    {
      "cell_type": "code",
      "metadata": {
        "colab": {
          "base_uri": "https://localhost:8080/",
          "height": 1000
        },
        "id": "eZu6maGzgMfx",
        "outputId": "b955edb8-3ca3-4903-cdbd-93607f54a2b6"
      },
      "source": [
        "## Get predictions and obtain scores and confusion matrix\n",
        "import seaborn as sns\n",
        "from sklearn.metrics import classification_report, confusion_matrix\n",
        "\n",
        "print(\"------------ON EARTHQUAKE DATA--------------\")\n",
        "predictions= clf.predict(x_test_uncorr_earthquake)\n",
        "print(classification_report(y_test_earthquake['label'], predictions,digits=4))\n",
        "cf_matrix = confusion_matrix(y_test_earthquake['label'], predictions)\n",
        "sns.heatmap(cf_matrix, annot=True, fmt='g')\n",
        "print(\"X-axis: Obtained Labels Y-axis: Actual Labels\")\n",
        "\n",
        "print(\"------------ON FLOODS DATA--------------\")\n",
        "predictions= clf.predict(x_test_uncorr_floods)\n",
        "print(classification_report(y_test_floods['label'], predictions,digits=4))\n",
        "cf_matrix = confusion_matrix(y_test_floods['label'], predictions)\n",
        "sns.heatmap(cf_matrix, annot=True, fmt='g')\n",
        "print(\"X-axis: Obtained Labels Y-axis: Actual Labels\")\n",
        "\n",
        "print(\"------------ON HURRICANE DATA--------------\")\n",
        "predictions= clf.predict(x_test_uncorr_hurricane)\n",
        "print(classification_report(y_test_hurricane['label'], predictions,digits=4))\n",
        "cf_matrix = confusion_matrix(y_test_hurricane['label'], predictions)\n",
        "sns.heatmap(cf_matrix, annot=True, fmt='g')\n",
        "print(\"X-axis: Obtained Labels Y-axis: Actual Labels\")\n",
        "\n",
        "print(\"------------ON COMBINED DATA--------------\")\n",
        "predictions= clf.predict(x_test_uncorr_combined)\n",
        "print(classification_report(y_test_combined['label'], predictions,digits=4))\n",
        "cf_matrix = confusion_matrix(y_test_combined['label'], predictions)\n",
        "sns.heatmap(cf_matrix, annot=True, fmt='g')\n",
        "print(\"X-axis: Obtained Labels Y-axis: Actual Labels\")"
      ],
      "execution_count": null,
      "outputs": [
        {
          "output_type": "stream",
          "name": "stdout",
          "text": [
            "------------ON EARTHQUAKE DATA--------------\n"
          ]
        },
        {
          "output_type": "stream",
          "name": "stderr",
          "text": [
            "/usr/local/lib/python3.7/dist-packages/sklearn/utils/validation.py:1679: FutureWarning: Feature names only support names that are all strings. Got feature names with dtypes: ['int', 'str']. An error will be raised in 1.2.\n",
            "  FutureWarning,\n"
          ]
        },
        {
          "output_type": "stream",
          "name": "stdout",
          "text": [
            "              precision    recall  f1-score   support\n",
            "\n",
            "           0     0.9480    0.9118    0.9295      1360\n",
            "           1     0.6962    0.8017    0.7453       343\n",
            "\n",
            "    accuracy                         0.8896      1703\n",
            "   macro avg     0.8221    0.8568    0.8374      1703\n",
            "weighted avg     0.8973    0.8896    0.8924      1703\n",
            "\n",
            "X-axis: Obtained Labels Y-axis: Actual Labels\n",
            "------------ON FLOODS DATA--------------\n"
          ]
        },
        {
          "output_type": "stream",
          "name": "stderr",
          "text": [
            "/usr/local/lib/python3.7/dist-packages/sklearn/utils/validation.py:1679: FutureWarning: Feature names only support names that are all strings. Got feature names with dtypes: ['int', 'str']. An error will be raised in 1.2.\n",
            "  FutureWarning,\n"
          ]
        },
        {
          "output_type": "stream",
          "name": "stdout",
          "text": [
            "              precision    recall  f1-score   support\n",
            "\n",
            "           0     0.8505    0.9384    0.8922       503\n",
            "           1     0.8098    0.6140    0.6984       215\n",
            "\n",
            "    accuracy                         0.8412       718\n",
            "   macro avg     0.8301    0.7762    0.7953       718\n",
            "weighted avg     0.8383    0.8412    0.8342       718\n",
            "\n",
            "X-axis: Obtained Labels Y-axis: Actual Labels\n",
            "------------ON HURRICANE DATA--------------\n"
          ]
        },
        {
          "output_type": "stream",
          "name": "stderr",
          "text": [
            "/usr/local/lib/python3.7/dist-packages/sklearn/utils/validation.py:1679: FutureWarning: Feature names only support names that are all strings. Got feature names with dtypes: ['int', 'str']. An error will be raised in 1.2.\n",
            "  FutureWarning,\n"
          ]
        },
        {
          "output_type": "stream",
          "name": "stdout",
          "text": [
            "              precision    recall  f1-score   support\n",
            "\n",
            "           0     0.8975    0.9471    0.9216       832\n",
            "           1     0.7528    0.5982    0.6667       224\n",
            "\n",
            "    accuracy                         0.8731      1056\n",
            "   macro avg     0.8252    0.7727    0.7942      1056\n",
            "weighted avg     0.8668    0.8731    0.8676      1056\n",
            "\n",
            "X-axis: Obtained Labels Y-axis: Actual Labels\n",
            "------------ON COMBINED DATA--------------\n"
          ]
        },
        {
          "output_type": "stream",
          "name": "stderr",
          "text": [
            "/usr/local/lib/python3.7/dist-packages/sklearn/utils/validation.py:1679: FutureWarning: Feature names only support names that are all strings. Got feature names with dtypes: ['int', 'str']. An error will be raised in 1.2.\n",
            "  FutureWarning,\n"
          ]
        },
        {
          "output_type": "stream",
          "name": "stdout",
          "text": [
            "              precision    recall  f1-score   support\n",
            "\n",
            "           0     0.8065    0.9379    0.8673      1982\n",
            "           1     0.8950    0.7015    0.7865      1494\n",
            "\n",
            "    accuracy                         0.8363      3476\n",
            "   macro avg     0.8507    0.8197    0.8269      3476\n",
            "weighted avg     0.8445    0.8363    0.8326      3476\n",
            "\n",
            "X-axis: Obtained Labels Y-axis: Actual Labels\n"
          ]
        },
        {
          "output_type": "display_data",
          "data": {
            "image/png": "[encoded data removed]",
            "text/plain": [
              "<Figure size 432x288 with 5 Axes>"
            ]
          },
          "metadata": {
            "needs_background": "light"
          }
        }
      ]
    },
    {
      "cell_type": "code",
      "metadata": {
        "id": "N5fTlEzzgMeP"
      },
      "source": [
        ""
      ],
      "execution_count": null,
      "outputs": []
    },
    {
      "cell_type": "markdown",
      "metadata": {
        "id": "Nl2j2d0EmbVt"
      },
      "source": [
        "##Model Trained on Floods Data"
      ]
    },
    {
      "cell_type": "code",
      "metadata": {
        "colab": {
          "base_uri": "https://localhost:8080/"
        },
        "id": "xwRQkezcmrkr",
        "outputId": "969e88b8-39a0-4f5d-9d45-b66204eec85d"
      },
      "source": [
        "import nltk\n",
        "from nltk.sentiment.vader import SentimentIntensityAnalyzer\n",
        "nltk.download('vader_lexicon')\n",
        "sid = SentimentIntensityAnalyzer()\n",
        "def get_vader_score(sent):\n",
        "    # Polarity score returns dictionary\n",
        "    ss = sid.polarity_scores(sent)\n",
        "    #return ss\n",
        "    return np.argmax(list(ss.values())[:-1])\n",
        "def get_encoding_per_tweet(tweet):\n",
        "  encoding=[]\n",
        "  tweet=tweet.lower()\n",
        "\n",
        "  # TWEET RELATED TO EARTHQUAKE\n",
        "  if \"earthquake\" in tweet:\n",
        "    encoding.append(1)\n",
        "  else:\n",
        "    encoding.append(0)\n",
        "\n",
        "  # TWEETS RELATED TO INJURIES AND DEATHS\n",
        "  if \"death\" in tweet and \"toll\" in tweet or 'victim' in tweet or \"injur\" in tweet:\n",
        "    encoding.append(1) # Can call another function in place of \"0\" which will give first encoding\n",
        "  else:\n",
        "    encoding.append(0) # Can call another function in place of \"1\" which will give second encoding\n",
        "  encoding.append(get_vader_score(tweet))\n",
        "\n",
        "  if \"dozens\" in tweet or \"thousands\" in tweet or  \"hundreds\" in tweet:\n",
        "    encoding.append(1) # Can call another function in place of \"0\" which will give first encoding\n",
        "  else:\n",
        "    encoding.append(0) # Can call another function in place of \"1\" which will give second encoding\n",
        "\n",
        "  #TWEETS RELATED TO MISSING OR MISPLACED PEOPLE\n",
        "  if \"miss\" in tweet or \"evacuat\" in tweet or \"displac\" in tweet or \"lost\" in tweet or \"relocat\" in tweet :\n",
        "    encoding.append(1) # Can call another function in place of \"0\" which will give first encoding\n",
        "  else:\n",
        "    encoding.append(0) # Can call another function in place of \"1\" which will give second encoding\n",
        "  \n",
        "  #TWEETS THAT TALK ABOUT FIRES AND TSUNAMI\n",
        "  if \"fire\" in tweet or \"tsunami\" in tweet:\n",
        "    encoding.append(1) # Can call another function in place of \"0\" which will give first encoding\n",
        "  else:\n",
        "    encoding.append(0) # Can call another function in place of \"1\" which will give second encoding\n",
        "  \n",
        "  return encoding\n",
        "\n",
        "\n",
        "## Get Encodings for all tweets [train or test, whichever supplied]\n",
        "def get_encoding_for_data(data):\n",
        "  X=[]\n",
        "  # Get encoding for each tweet in the data(set of tweets)\n",
        "  for tweet_id,tweet in zip(data['id'],data['tweets']):\n",
        "    X.append(get_encoding_per_tweet(tweet))\n",
        "  return X\n",
        "\n",
        "\n",
        "\n",
        "X_train_floods['tweets'] = X_train_floods['tweets'].apply(lambda x: x.lower())\n",
        "X_test_earthquake['tweets'] = X_test_earthquake['tweets'].apply(lambda x:x.lower())\n",
        "X_test_floods['tweets'] = X_test_floods['tweets'].apply(lambda x:x.lower())\n",
        "X_test_hurricane['tweets'] = X_test_hurricane['tweets'].apply(lambda x:x.lower())\n",
        "X_test_combined['tweets'] = X_test_combined['tweets'].apply(lambda x:x.lower())\n",
        "\n",
        "\n",
        "def remove_stopwords(tweet, stopwords_list):\n",
        "  tweet = tweet.split()\n",
        "  fin_list = []\n",
        "  for word in tweet:\n",
        "    if word not in stopwords_list:\n",
        "      fin_list.append(word)\n",
        "  \n",
        "  updated_sent = \" \"\n",
        "  updated_sent = updated_sent.join(fin_list)\n",
        "  return updated_sent\n",
        "\n",
        "def pos_selection(tweet):\n",
        "  pos_list=pos(tweet)\n",
        "  tweet = tweet.split()\n",
        "  fin_list = []\n",
        "  for tag,word in zip(pos_list,tweet):\n",
        "    if \"VB\" in tag or \"JJ\" in tag or \"RB\" in tag or \"NN\" in tag:\n",
        "      if \"NNP\" not in tag: \n",
        "        fin_list.append(word)\n",
        "  \n",
        "  updated_sent = \" \"\n",
        "  updated_sent = updated_sent.join(fin_list)\n",
        "  return updated_sent\n",
        "\n",
        "\n",
        "X_train_floods['tweets'] = X_train_floods['tweets'].apply(lambda x: pos_selection(x))\n",
        "X_test_earthquake['tweets'] = X_test_earthquake['tweets'].apply(lambda x:pos_selection(x))\n",
        "X_test_floods['tweets'] = X_test_floods['tweets'].apply(lambda x:pos_selection(x))\n",
        "X_test_hurricane['tweets'] = X_test_hurricane['tweets'].apply(lambda x:pos_selection(x))\n",
        "X_test_combined['tweets'] = X_test_combined['tweets'].apply(lambda x:pos_selection(x))\n",
        "\n",
        "# tweets['tweets'] = tweets['tweets'].apply(lambda x: pos_selection(x))\n",
        "# tweets['tweets'] = tweets['tweets'].apply(lambda x: remove_stopwords(x,lst_stopwords))\n",
        "# test_tweets['tweets'] = test_tweets['tweets'].apply(lambda x: remove_stopwords(x,lst_stopwords))\n",
        "\n",
        "\n",
        "\n",
        "from sklearn.feature_extraction.text import TfidfVectorizer\n",
        "tfidf = TfidfVectorizer(min_df=2,max_df=0.5, ngram_range=(1,3))\n",
        "model=tfidf.fit(X_train_floods['tweets'])\n",
        "features=model.transform(X_train_floods['tweets'])\n",
        "features_test_earthquake=model.transform(X_test_earthquake['tweets'])\n",
        "features_test_floods=model.transform(X_test_floods['tweets'])\n",
        "features_test_hurricane=model.transform(X_test_hurricane['tweets'])\n",
        "features_test_combined=model.transform(X_test_combined['tweets'])\n",
        "\n",
        "x_train=features\n",
        "x_test_earthquake=features_test_earthquake\n",
        "x_test_floods=features_test_floods\n",
        "x_test_hurricane=features_test_hurricane\n",
        "x_test_combined=features_test_combined\n",
        "\n",
        "\n",
        "# x_new_test=model.transform(test_tweets['tweets'])\n",
        "\n",
        "\n",
        "# REMOVING LOW VARIANCE FEATURES\n",
        "from sklearn.feature_selection import VarianceThreshold\n",
        "constant_filter = VarianceThreshold(threshold = 0.0002)\n",
        "constant_filter.fit(x_train)\n",
        "# feature_list = x_train\n",
        "# print('Number of selected features: ' ,len(list(feature_list)),'\\n')\n",
        "# print('List of selected features: \\n' ,list(feature_list))\n",
        "\n",
        "\n",
        "x_train_filter = constant_filter.transform(x_train)\n",
        "x_test_filter_earthquake = constant_filter.transform(x_test_earthquake)\n",
        "x_test_filter_floods = constant_filter.transform(x_test_floods)\n",
        "x_test_filter_hurricane = constant_filter.transform(x_test_hurricane)\n",
        "x_test_filter_combined = constant_filter.transform(x_test_combined)\n",
        "\n",
        "# x_new_test_filter = constant_filter.transform(x_new_test)\n",
        "# x_train_filter.shape, x_test_filter.shape, x_train.shape,x_new_test_filter.shape\n",
        "\n",
        "x_train_filter = pd.DataFrame(x_train_filter.toarray())\n",
        "x_test_filter_earthquake = pd.DataFrame(x_test_filter_earthquake.toarray())\n",
        "x_test_filter_floods = pd.DataFrame(x_test_filter_floods.toarray())\n",
        "x_test_filter_hurricane = pd.DataFrame(x_test_filter_hurricane.toarray())\n",
        "x_test_filter_combined = pd.DataFrame(x_test_filter_combined.toarray())\n",
        "\n",
        "\n",
        "# x_new_test_filter = pd.DataFrame(x_new_test_filter.toarray())\n",
        "\n",
        "\n",
        "def get_correlation(data, threshold):\n",
        "    corr_col = set()\n",
        "    cormat = data.corr()\n",
        "    for i in range(len(cormat.columns)):\n",
        "        for j in range(i):\n",
        "            if abs(cormat.iloc[i,j]) > threshold:\n",
        "                colname = cormat.columns[i]\n",
        "                corr_col.add(colname)\n",
        "    return corr_col\n",
        "corr_features = get_correlation(x_train_filter, 0.70)"
      ],
      "execution_count": null,
      "outputs": [
        {
          "output_type": "stream",
          "name": "stdout",
          "text": [
            "[nltk_data] Downloading package vader_lexicon to /root/nltk_data...\n",
            "[nltk_data]   Package vader_lexicon is already up-to-date!\n"
          ]
        }
      ]
    },
    {
      "cell_type": "code",
      "metadata": {
        "id": "HZTnc43YmrlD"
      },
      "source": [
        "x_train_uncorr = x_train_filter.drop(labels= corr_features, axis = 1)\n",
        "x_test_uncorr_earthquake = x_test_filter_earthquake.drop(labels= corr_features, axis = 1)\n",
        "x_test_uncorr_floods = x_test_filter_floods.drop(labels= corr_features, axis = 1)\n",
        "x_test_uncorr_hurricane = x_test_filter_hurricane.drop(labels= corr_features, axis = 1)\n",
        "x_test_uncorr_combined = x_test_filter_combined.drop(labels= corr_features, axis = 1)\n",
        "\n",
        "# x_new_test_uncorr = x_new_test_filter.drop(labels= corr_features, axis = 1)\n",
        "\n",
        "x_train_uncorr = pd.DataFrame(x_train_uncorr)\n",
        "x_test_uncorr_earthquake = pd.DataFrame(x_test_uncorr_earthquake)\n",
        "x_test_uncorr_floods = pd.DataFrame(x_test_uncorr_floods)\n",
        "x_test_uncorr_hurricane = pd.DataFrame(x_test_uncorr_hurricane)\n",
        "x_test_uncorr_combined = pd.DataFrame(x_test_uncorr_combined)\n",
        "\n",
        "# x_new_test_uncorr = pd.DataFrame(x_new_test_uncorr)\n",
        "# x_train_uncorr.shape, x_test_uncorr.shape, x_new_test_uncorr.shape"
      ],
      "execution_count": null,
      "outputs": []
    },
    {
      "cell_type": "code",
      "metadata": {
        "id": "11qpCDqImrlE"
      },
      "source": [
        "x_train_uncorr=pd.concat([x_train_uncorr,pd.DataFrame(get_encoding_for_data(X_train_floods),columns=['a','b','c','d','e','f'])],axis=1)\n",
        "x_test_uncorr_earthquake=pd.concat([x_test_uncorr_earthquake,pd.DataFrame(get_encoding_for_data(X_test_earthquake),columns=['a','b','c','d','e','f'])],axis=1)\n",
        "x_test_uncorr_floods=pd.concat([x_test_uncorr_floods,pd.DataFrame(get_encoding_for_data(X_test_floods),columns=['a','b','c','d','e','f'])],axis=1)\n",
        "x_test_uncorr_hurricane=pd.concat([x_test_uncorr_hurricane,pd.DataFrame(get_encoding_for_data(X_test_hurricane),columns=['a','b','c','d','e','f'])],axis=1)\n",
        "x_test_uncorr_combined=pd.concat([x_test_uncorr_combined,pd.DataFrame(get_encoding_for_data(X_test_combined),columns=['a','b','c','d','e','f'])],axis=1)\n",
        "\n"
      ],
      "execution_count": null,
      "outputs": []
    },
    {
      "cell_type": "code",
      "metadata": {
        "colab": {
          "base_uri": "https://localhost:8080/"
        },
        "id": "DMBNFeYymrlF",
        "outputId": "6a06ac1f-71f5-46f3-f2dc-8017fca62784"
      },
      "source": [
        "## Train with SVM\n",
        "from sklearn import svm\n",
        "# Can be used to get a rough estimate of score, later we use grid search to find better parameters\n",
        "clf = svm.SVC(cache_size=10000,class_weight=\"balanced\")\n",
        "# Fit over encodings and labels(binary labels) of the data\n",
        "clf.fit(x_train_uncorr, y_train_floods[\"label\"]) "
      ],
      "execution_count": null,
      "outputs": [
        {
          "output_type": "stream",
          "name": "stderr",
          "text": [
            "/usr/local/lib/python3.7/dist-packages/sklearn/utils/validation.py:1679: FutureWarning: Feature names only support names that are all strings. Got feature names with dtypes: ['int', 'str']. An error will be raised in 1.2.\n",
            "  FutureWarning,\n"
          ]
        },
        {
          "output_type": "execute_result",
          "data": {
            "text/plain": [
              "SVC(cache_size=10000, class_weight='balanced')"
            ]
          },
          "metadata": {},
          "execution_count": 34
        }
      ]
    },
    {
      "cell_type": "code",
      "metadata": {
        "colab": {
          "base_uri": "https://localhost:8080/",
          "height": 1000
        },
        "id": "68WdOsfqmrlF",
        "outputId": "0b7fbd3c-98f4-47b4-f145-8106b2c993c9"
      },
      "source": [
        "## Get predictions and obtain scores and confusion matrix\n",
        "import seaborn as sns\n",
        "from sklearn.metrics import classification_report, confusion_matrix\n",
        "\n",
        "print(\"------------ON EARTHQUAKE DATA--------------\")\n",
        "predictions= clf.predict(x_test_uncorr_earthquake)\n",
        "print(classification_report(y_test_earthquake['label'], predictions,digits=4))\n",
        "cf_matrix = confusion_matrix(y_test_earthquake['label'], predictions)\n",
        "sns.heatmap(cf_matrix, annot=True, fmt='g')\n",
        "print(\"X-axis: Obtained Labels Y-axis: Actual Labels\")\n",
        "\n",
        "print(\"------------ON FLOODS DATA--------------\")\n",
        "predictions= clf.predict(x_test_uncorr_floods)\n",
        "print(classification_report(y_test_floods['label'], predictions,digits=4))\n",
        "cf_matrix = confusion_matrix(y_test_floods['label'], predictions)\n",
        "sns.heatmap(cf_matrix, annot=True, fmt='g')\n",
        "print(\"X-axis: Obtained Labels Y-axis: Actual Labels\")\n",
        "\n",
        "print(\"------------ON HURRICANE DATA--------------\")\n",
        "predictions= clf.predict(x_test_uncorr_hurricane)\n",
        "print(classification_report(y_test_hurricane['label'], predictions,digits=4))\n",
        "cf_matrix = confusion_matrix(y_test_hurricane['label'], predictions)\n",
        "sns.heatmap(cf_matrix, annot=True, fmt='g')\n",
        "print(\"X-axis: Obtained Labels Y-axis: Actual Labels\")\n",
        "\n",
        "print(\"------------ON COMBINED DATA--------------\")\n",
        "predictions= clf.predict(x_test_uncorr_combined)\n",
        "print(classification_report(y_test_combined['label'], predictions,digits=4))\n",
        "cf_matrix = confusion_matrix(y_test_combined['label'], predictions)\n",
        "sns.heatmap(cf_matrix, annot=True, fmt='g')\n",
        "print(\"X-axis: Obtained Labels Y-axis: Actual Labels\")"
      ],
      "execution_count": null,
      "outputs": [
        {
          "output_type": "stream",
          "name": "stdout",
          "text": [
            "------------ON EARTHQUAKE DATA--------------\n"
          ]
        },
        {
          "output_type": "stream",
          "name": "stderr",
          "text": [
            "/usr/local/lib/python3.7/dist-packages/sklearn/utils/validation.py:1679: FutureWarning: Feature names only support names that are all strings. Got feature names with dtypes: ['int', 'str']. An error will be raised in 1.2.\n",
            "  FutureWarning,\n"
          ]
        },
        {
          "output_type": "stream",
          "name": "stdout",
          "text": [
            "              precision    recall  f1-score   support\n",
            "\n",
            "           0     0.8251    0.9713    0.8923      1360\n",
            "           1     0.6176    0.1837    0.2831       343\n",
            "\n",
            "    accuracy                         0.8127      1703\n",
            "   macro avg     0.7214    0.5775    0.5877      1703\n",
            "weighted avg     0.7833    0.8127    0.7696      1703\n",
            "\n",
            "X-axis: Obtained Labels Y-axis: Actual Labels\n",
            "------------ON FLOODS DATA--------------\n"
          ]
        },
        {
          "output_type": "stream",
          "name": "stderr",
          "text": [
            "/usr/local/lib/python3.7/dist-packages/sklearn/utils/validation.py:1679: FutureWarning: Feature names only support names that are all strings. Got feature names with dtypes: ['int', 'str']. An error will be raised in 1.2.\n",
            "  FutureWarning,\n"
          ]
        },
        {
          "output_type": "stream",
          "name": "stdout",
          "text": [
            "              precision    recall  f1-score   support\n",
            "\n",
            "           0     0.8407    0.9443    0.8895       503\n",
            "           1     0.8170    0.5814    0.6793       215\n",
            "\n",
            "    accuracy                         0.8357       718\n",
            "   macro avg     0.8289    0.7629    0.7844       718\n",
            "weighted avg     0.8336    0.8357    0.8266       718\n",
            "\n",
            "X-axis: Obtained Labels Y-axis: Actual Labels\n",
            "------------ON HURRICANE DATA--------------\n"
          ]
        },
        {
          "output_type": "stream",
          "name": "stderr",
          "text": [
            "/usr/local/lib/python3.7/dist-packages/sklearn/utils/validation.py:1679: FutureWarning: Feature names only support names that are all strings. Got feature names with dtypes: ['int', 'str']. An error will be raised in 1.2.\n",
            "  FutureWarning,\n"
          ]
        },
        {
          "output_type": "stream",
          "name": "stdout",
          "text": [
            "              precision    recall  f1-score   support\n",
            "\n",
            "           0     0.8531    0.9772    0.9109       832\n",
            "           1     0.8155    0.3750    0.5138       224\n",
            "\n",
            "    accuracy                         0.8494      1056\n",
            "   macro avg     0.8343    0.6761    0.7123      1056\n",
            "weighted avg     0.8451    0.8494    0.8267      1056\n",
            "\n",
            "X-axis: Obtained Labels Y-axis: Actual Labels\n",
            "------------ON COMBINED DATA--------------\n"
          ]
        },
        {
          "output_type": "stream",
          "name": "stderr",
          "text": [
            "/usr/local/lib/python3.7/dist-packages/sklearn/utils/validation.py:1679: FutureWarning: Feature names only support names that are all strings. Got feature names with dtypes: ['int', 'str']. An error will be raised in 1.2.\n",
            "  FutureWarning,\n"
          ]
        },
        {
          "output_type": "stream",
          "name": "stdout",
          "text": [
            "              precision    recall  f1-score   support\n",
            "\n",
            "           0     0.8840    0.9460    0.9140      1982\n",
            "           1     0.9210    0.8353    0.8761      1494\n",
            "\n",
            "    accuracy                         0.8984      3476\n",
            "   macro avg     0.9025    0.8907    0.8950      3476\n",
            "weighted avg     0.8999    0.8984    0.8977      3476\n",
            "\n",
            "X-axis: Obtained Labels Y-axis: Actual Labels\n"
          ]
        },
        {
          "output_type": "display_data",
          "data": {
            "image/png": "[encoded data removed]",
            "text/plain": [
              "<Figure size 432x288 with 5 Axes>"
            ]
          },
          "metadata": {
            "needs_background": "light"
          }
        }
      ]
    },
    {
      "cell_type": "code",
      "metadata": {
        "id": "NHsRfO8OgMZA"
      },
      "source": [
        ""
      ],
      "execution_count": null,
      "outputs": []
    },
    {
      "cell_type": "markdown",
      "metadata": {
        "id": "j-75id54nSbE"
      },
      "source": [
        "##Model Trained on Hurricane Data"
      ]
    },
    {
      "cell_type": "code",
      "metadata": {
        "colab": {
          "base_uri": "https://localhost:8080/"
        },
        "id": "b7nXLgbrnVyz",
        "outputId": "2c5fb358-7726-41d4-fa96-0c6e9c5ebf5e"
      },
      "source": [
        "import nltk\n",
        "from nltk.sentiment.vader import SentimentIntensityAnalyzer\n",
        "nltk.download('vader_lexicon')\n",
        "sid = SentimentIntensityAnalyzer()\n",
        "def get_vader_score(sent):\n",
        "    # Polarity score returns dictionary\n",
        "    ss = sid.polarity_scores(sent)\n",
        "    #return ss\n",
        "    return np.argmax(list(ss.values())[:-1])\n",
        "def get_encoding_per_tweet(tweet):\n",
        "  encoding=[]\n",
        "  tweet=tweet.lower()\n",
        "\n",
        "  # TWEET RELATED TO EARTHQUAKE\n",
        "  if \"earthquake\" in tweet:\n",
        "    encoding.append(1)\n",
        "  else:\n",
        "    encoding.append(0)\n",
        "\n",
        "  # TWEETS RELATED TO INJURIES AND DEATHS\n",
        "  if \"death\" in tweet and \"toll\" in tweet or 'victim' in tweet or \"injur\" in tweet:\n",
        "    encoding.append(1) # Can call another function in place of \"0\" which will give first encoding\n",
        "  else:\n",
        "    encoding.append(0) # Can call another function in place of \"1\" which will give second encoding\n",
        "  encoding.append(get_vader_score(tweet))\n",
        "\n",
        "  if \"dozens\" in tweet or \"thousands\" in tweet or  \"hundreds\" in tweet:\n",
        "    encoding.append(1) # Can call another function in place of \"0\" which will give first encoding\n",
        "  else:\n",
        "    encoding.append(0) # Can call another function in place of \"1\" which will give second encoding\n",
        "\n",
        "  #TWEETS RELATED TO MISSING OR MISPLACED PEOPLE\n",
        "  if \"miss\" in tweet or \"evacuat\" in tweet or \"displac\" in tweet or \"lost\" in tweet or \"relocat\" in tweet :\n",
        "    encoding.append(1) # Can call another function in place of \"0\" which will give first encoding\n",
        "  else:\n",
        "    encoding.append(0) # Can call another function in place of \"1\" which will give second encoding\n",
        "  \n",
        "  #TWEETS THAT TALK ABOUT FIRES AND TSUNAMI\n",
        "  if \"fire\" in tweet or \"tsunami\" in tweet:\n",
        "    encoding.append(1) # Can call another function in place of \"0\" which will give first encoding\n",
        "  else:\n",
        "    encoding.append(0) # Can call another function in place of \"1\" which will give second encoding\n",
        "  \n",
        "  return encoding\n",
        "\n",
        "\n",
        "## Get Encodings for all tweets [train or test, whichever supplied]\n",
        "def get_encoding_for_data(data):\n",
        "  X=[]\n",
        "  # Get encoding for each tweet in the data(set of tweets)\n",
        "  for tweet_id,tweet in zip(data['id'],data['tweets']):\n",
        "    X.append(get_encoding_per_tweet(tweet))\n",
        "  return X\n",
        "\n",
        "\n",
        "\n",
        "X_train_hurricane['tweets'] = X_train_hurricane['tweets'].apply(lambda x: str(x).lower())\n",
        "X_test_earthquake['tweets'] = X_test_earthquake['tweets'].apply(lambda x:x.lower())\n",
        "X_test_floods['tweets'] = X_test_floods['tweets'].apply(lambda x:x.lower())\n",
        "X_test_hurricane['tweets'] = X_test_hurricane['tweets'].apply(lambda x:x.lower())\n",
        "X_test_combined['tweets'] = X_test_combined['tweets'].apply(lambda x:x.lower())\n",
        "\n",
        "\n",
        "def remove_stopwords(tweet, stopwords_list):\n",
        "  tweet = tweet.split()\n",
        "  fin_list = []\n",
        "  for word in tweet:\n",
        "    if word not in stopwords_list:\n",
        "      fin_list.append(word)\n",
        "  \n",
        "  updated_sent = \" \"\n",
        "  updated_sent = updated_sent.join(fin_list)\n",
        "  return updated_sent\n",
        "\n",
        "def pos_selection(tweet):\n",
        "  pos_list=pos(tweet)\n",
        "  tweet = tweet.split()\n",
        "  fin_list = []\n",
        "  for tag,word in zip(pos_list,tweet):\n",
        "    if \"VB\" in tag or \"JJ\" in tag or \"RB\" in tag or \"NN\" in tag:\n",
        "      if \"NNP\" not in tag: \n",
        "        fin_list.append(word)\n",
        "  \n",
        "  updated_sent = \" \"\n",
        "  updated_sent = updated_sent.join(fin_list)\n",
        "  return updated_sent\n",
        "\n",
        "\n",
        "X_train_hurricane['tweets'] = X_train_hurricane['tweets'].apply(lambda x: pos_selection(x))\n",
        "X_test_earthquake['tweets'] = X_test_earthquake['tweets'].apply(lambda x:pos_selection(x))\n",
        "X_test_floods['tweets'] = X_test_floods['tweets'].apply(lambda x:pos_selection(x))\n",
        "X_test_hurricane['tweets'] = X_test_hurricane['tweets'].apply(lambda x:pos_selection(x))\n",
        "X_test_combined['tweets'] = X_test_combined['tweets'].apply(lambda x:pos_selection(x))\n",
        "\n",
        "# tweets['tweets'] = tweets['tweets'].apply(lambda x: pos_selection(x))\n",
        "# tweets['tweets'] = tweets['tweets'].apply(lambda x: remove_stopwords(x,lst_stopwords))\n",
        "# test_tweets['tweets'] = test_tweets['tweets'].apply(lambda x: remove_stopwords(x,lst_stopwords))\n",
        "\n",
        "\n",
        "\n",
        "from sklearn.feature_extraction.text import TfidfVectorizer\n",
        "tfidf = TfidfVectorizer(min_df=2,max_df=0.5, ngram_range=(1,3))\n",
        "model=tfidf.fit(X_train_hurricane['tweets'])\n",
        "features=model.transform(X_train_hurricane['tweets'])\n",
        "features_test_earthquake=model.transform(X_test_earthquake['tweets'])\n",
        "features_test_floods=model.transform(X_test_floods['tweets'])\n",
        "features_test_hurricane=model.transform(X_test_hurricane['tweets'])\n",
        "features_test_combined=model.transform(X_test_combined['tweets'])\n",
        "\n",
        "x_train=features\n",
        "x_test_earthquake=features_test_earthquake\n",
        "x_test_floods=features_test_floods\n",
        "x_test_hurricane=features_test_hurricane\n",
        "x_test_combined=features_test_combined\n",
        "\n",
        "\n",
        "# x_new_test=model.transform(test_tweets['tweets'])\n",
        "\n",
        "\n",
        "# REMOVING LOW VARIANCE FEATURES\n",
        "from sklearn.feature_selection import VarianceThreshold\n",
        "constant_filter = VarianceThreshold(threshold = 0.0002)\n",
        "constant_filter.fit(x_train)\n",
        "# feature_list = x_train\n",
        "# print('Number of selected features: ' ,len(list(feature_list)),'\\n')\n",
        "# print('List of selected features: \\n' ,list(feature_list))\n",
        "\n",
        "\n",
        "x_train_filter = constant_filter.transform(x_train)\n",
        "x_test_filter_earthquake = constant_filter.transform(x_test_earthquake)\n",
        "x_test_filter_floods = constant_filter.transform(x_test_floods)\n",
        "x_test_filter_hurricane = constant_filter.transform(x_test_hurricane)\n",
        "x_test_filter_combined = constant_filter.transform(x_test_combined)\n",
        "\n",
        "# x_new_test_filter = constant_filter.transform(x_new_test)\n",
        "# x_train_filter.shape, x_test_filter.shape, x_train.shape,x_new_test_filter.shape\n",
        "\n",
        "x_train_filter = pd.DataFrame(x_train_filter.toarray())\n",
        "x_test_filter_earthquake = pd.DataFrame(x_test_filter_earthquake.toarray())\n",
        "x_test_filter_floods = pd.DataFrame(x_test_filter_floods.toarray())\n",
        "x_test_filter_hurricane = pd.DataFrame(x_test_filter_hurricane.toarray())\n",
        "x_test_filter_combined = pd.DataFrame(x_test_filter_combined.toarray())\n",
        "\n",
        "\n",
        "# x_new_test_filter = pd.DataFrame(x_new_test_filter.toarray())\n",
        "\n",
        "\n",
        "def get_correlation(data, threshold):\n",
        "    corr_col = set()\n",
        "    cormat = data.corr()\n",
        "    for i in range(len(cormat.columns)):\n",
        "        for j in range(i):\n",
        "            if abs(cormat.iloc[i,j]) > threshold:\n",
        "                colname = cormat.columns[i]\n",
        "                corr_col.add(colname)\n",
        "    return corr_col\n",
        "corr_features = get_correlation(x_train_filter, 0.70)"
      ],
      "execution_count": null,
      "outputs": [
        {
          "output_type": "stream",
          "name": "stdout",
          "text": [
            "[nltk_data] Downloading package vader_lexicon to /root/nltk_data...\n",
            "[nltk_data]   Package vader_lexicon is already up-to-date!\n"
          ]
        }
      ]
    },
    {
      "cell_type": "code",
      "metadata": {
        "id": "m4R97SBsnVy1"
      },
      "source": [
        "x_train_uncorr = x_train_filter.drop(labels= corr_features, axis = 1)\n",
        "x_test_uncorr_earthquake = x_test_filter_earthquake.drop(labels= corr_features, axis = 1)\n",
        "x_test_uncorr_floods = x_test_filter_floods.drop(labels= corr_features, axis = 1)\n",
        "x_test_uncorr_hurricane = x_test_filter_hurricane.drop(labels= corr_features, axis = 1)\n",
        "x_test_uncorr_combined = x_test_filter_combined.drop(labels= corr_features, axis = 1)\n",
        "\n",
        "# x_new_test_uncorr = x_new_test_filter.drop(labels= corr_features, axis = 1)\n",
        "\n",
        "x_train_uncorr = pd.DataFrame(x_train_uncorr)\n",
        "x_test_uncorr_earthquake = pd.DataFrame(x_test_uncorr_earthquake)\n",
        "x_test_uncorr_floods = pd.DataFrame(x_test_uncorr_floods)\n",
        "x_test_uncorr_hurricane = pd.DataFrame(x_test_uncorr_hurricane)\n",
        "x_test_uncorr_combined = pd.DataFrame(x_test_uncorr_combined)\n",
        "\n",
        "# x_new_test_uncorr = pd.DataFrame(x_new_test_uncorr)\n",
        "# x_train_uncorr.shape, x_test_uncorr.shape, x_new_test_uncorr.shape"
      ],
      "execution_count": null,
      "outputs": []
    },
    {
      "cell_type": "code",
      "metadata": {
        "id": "xOhuwYd1nVy2"
      },
      "source": [
        "x_train_uncorr=pd.concat([x_train_uncorr,pd.DataFrame(get_encoding_for_data(X_train_hurricane),columns=['a','b','c','d','e','f'])],axis=1)\n",
        "x_test_uncorr_earthquake=pd.concat([x_test_uncorr_earthquake,pd.DataFrame(get_encoding_for_data(X_test_earthquake),columns=['a','b','c','d','e','f'])],axis=1)\n",
        "x_test_uncorr_floods=pd.concat([x_test_uncorr_floods,pd.DataFrame(get_encoding_for_data(X_test_floods),columns=['a','b','c','d','e','f'])],axis=1)\n",
        "x_test_uncorr_hurricane=pd.concat([x_test_uncorr_hurricane,pd.DataFrame(get_encoding_for_data(X_test_hurricane),columns=['a','b','c','d','e','f'])],axis=1)\n",
        "x_test_uncorr_combined=pd.concat([x_test_uncorr_combined,pd.DataFrame(get_encoding_for_data(X_test_combined),columns=['a','b','c','d','e','f'])],axis=1)\n",
        "\n"
      ],
      "execution_count": null,
      "outputs": []
    },
    {
      "cell_type": "code",
      "metadata": {
        "colab": {
          "base_uri": "https://localhost:8080/"
        },
        "id": "94hkku3NnVy2",
        "outputId": "1c36ac17-60b0-4fa5-bccf-6297cf8fb826"
      },
      "source": [
        "## Train with SVM\n",
        "from sklearn import svm\n",
        "# Can be used to get a rough estimate of score, later we use grid search to find better parameters\n",
        "clf = svm.SVC(cache_size=10000,class_weight=\"balanced\")\n",
        "# Fit over encodings and labels(binary labels) of the data\n",
        "clf.fit(x_train_uncorr, y_train_hurricane[\"label\"]) "
      ],
      "execution_count": null,
      "outputs": [
        {
          "output_type": "stream",
          "name": "stderr",
          "text": [
            "/usr/local/lib/python3.7/dist-packages/sklearn/utils/validation.py:1679: FutureWarning: Feature names only support names that are all strings. Got feature names with dtypes: ['int', 'str']. An error will be raised in 1.2.\n",
            "  FutureWarning,\n"
          ]
        },
        {
          "output_type": "execute_result",
          "data": {
            "text/plain": [
              "SVC(cache_size=10000, class_weight='balanced')"
            ]
          },
          "metadata": {},
          "execution_count": 40
        }
      ]
    },
    {
      "cell_type": "code",
      "metadata": {
        "colab": {
          "base_uri": "https://localhost:8080/",
          "height": 1000
        },
        "id": "YAHK8adDnVy3",
        "outputId": "ff499ac3-4f06-49b8-c892-b6720da11bfc"
      },
      "source": [
        "## Get predictions and obtain scores and confusion matrix\n",
        "import seaborn as sns\n",
        "from sklearn.metrics import classification_report, confusion_matrix\n",
        "\n",
        "print(\"------------ON EARTHQUAKE DATA--------------\")\n",
        "predictions= clf.predict(x_test_uncorr_earthquake)\n",
        "print(classification_report(y_test_earthquake['label'], predictions,digits=4))\n",
        "cf_matrix = confusion_matrix(y_test_earthquake['label'], predictions)\n",
        "sns.heatmap(cf_matrix, annot=True, fmt='g')\n",
        "print(\"X-axis: Obtained Labels Y-axis: Actual Labels\")\n",
        "\n",
        "print(\"------------ON FLOODS DATA--------------\")\n",
        "predictions= clf.predict(x_test_uncorr_floods)\n",
        "print(classification_report(y_test_floods['label'], predictions,digits=4))\n",
        "cf_matrix = confusion_matrix(y_test_floods['label'], predictions)\n",
        "sns.heatmap(cf_matrix, annot=True, fmt='g')\n",
        "print(\"X-axis: Obtained Labels Y-axis: Actual Labels\")\n",
        "\n",
        "print(\"------------ON HURRICANE DATA--------------\")\n",
        "predictions= clf.predict(x_test_uncorr_hurricane)\n",
        "print(classification_report(y_test_hurricane['label'], predictions,digits=4))\n",
        "cf_matrix = confusion_matrix(y_test_hurricane['label'], predictions)\n",
        "sns.heatmap(cf_matrix, annot=True, fmt='g')\n",
        "print(\"X-axis: Obtained Labels Y-axis: Actual Labels\")\n",
        "\n",
        "print(\"------------ON COMBINED DATA--------------\")\n",
        "predictions= clf.predict(x_test_uncorr_combined)\n",
        "print(classification_report(y_test_combined['label'], predictions,digits=4))\n",
        "cf_matrix = confusion_matrix(y_test_combined['label'], predictions)\n",
        "sns.heatmap(cf_matrix, annot=True, fmt='g')\n",
        "print(\"X-axis: Obtained Labels Y-axis: Actual Labels\")"
      ],
      "execution_count": null,
      "outputs": [
        {
          "output_type": "stream",
          "name": "stdout",
          "text": [
            "------------ON EARTHQUAKE DATA--------------\n"
          ]
        },
        {
          "output_type": "stream",
          "name": "stderr",
          "text": [
            "/usr/local/lib/python3.7/dist-packages/sklearn/utils/validation.py:1679: FutureWarning: Feature names only support names that are all strings. Got feature names with dtypes: ['int', 'str']. An error will be raised in 1.2.\n",
            "  FutureWarning,\n"
          ]
        },
        {
          "output_type": "stream",
          "name": "stdout",
          "text": [
            "              precision    recall  f1-score   support\n",
            "\n",
            "           0     0.8751    0.9478    0.9100      1360\n",
            "           1     0.6913    0.4636    0.5550       343\n",
            "\n",
            "    accuracy                         0.8503      1703\n",
            "   macro avg     0.7832    0.7057    0.7325      1703\n",
            "weighted avg     0.8381    0.8503    0.8385      1703\n",
            "\n",
            "X-axis: Obtained Labels Y-axis: Actual Labels\n",
            "------------ON FLOODS DATA--------------\n"
          ]
        },
        {
          "output_type": "stream",
          "name": "stderr",
          "text": [
            "/usr/local/lib/python3.7/dist-packages/sklearn/utils/validation.py:1679: FutureWarning: Feature names only support names that are all strings. Got feature names with dtypes: ['int', 'str']. An error will be raised in 1.2.\n",
            "  FutureWarning,\n"
          ]
        },
        {
          "output_type": "stream",
          "name": "stdout",
          "text": [
            "              precision    recall  f1-score   support\n",
            "\n",
            "           0     0.8177    0.9364    0.8730       503\n",
            "           1     0.7746    0.5116    0.6162       215\n",
            "\n",
            "    accuracy                         0.8092       718\n",
            "   macro avg     0.7962    0.7240    0.7446       718\n",
            "weighted avg     0.8048    0.8092    0.7961       718\n",
            "\n",
            "X-axis: Obtained Labels Y-axis: Actual Labels\n",
            "------------ON HURRICANE DATA--------------\n"
          ]
        },
        {
          "output_type": "stream",
          "name": "stderr",
          "text": [
            "/usr/local/lib/python3.7/dist-packages/sklearn/utils/validation.py:1679: FutureWarning: Feature names only support names that are all strings. Got feature names with dtypes: ['int', 'str']. An error will be raised in 1.2.\n",
            "  FutureWarning,\n"
          ]
        },
        {
          "output_type": "stream",
          "name": "stdout",
          "text": [
            "              precision    recall  f1-score   support\n",
            "\n",
            "           0     0.9258    0.9303    0.9281       832\n",
            "           1     0.7364    0.7232    0.7297       224\n",
            "\n",
            "    accuracy                         0.8864      1056\n",
            "   macro avg     0.8311    0.8268    0.8289      1056\n",
            "weighted avg     0.8856    0.8864    0.8860      1056\n",
            "\n",
            "X-axis: Obtained Labels Y-axis: Actual Labels\n",
            "------------ON COMBINED DATA--------------\n"
          ]
        },
        {
          "output_type": "stream",
          "name": "stderr",
          "text": [
            "/usr/local/lib/python3.7/dist-packages/sklearn/utils/validation.py:1679: FutureWarning: Feature names only support names that are all strings. Got feature names with dtypes: ['int', 'str']. An error will be raised in 1.2.\n",
            "  FutureWarning,\n"
          ]
        },
        {
          "output_type": "stream",
          "name": "stdout",
          "text": [
            "              precision    recall  f1-score   support\n",
            "\n",
            "           0     0.7900    0.9319    0.8551      1982\n",
            "           1     0.8814    0.6714    0.7622      1494\n",
            "\n",
            "    accuracy                         0.8199      3476\n",
            "   macro avg     0.8357    0.8016    0.8086      3476\n",
            "weighted avg     0.8293    0.8199    0.8151      3476\n",
            "\n",
            "X-axis: Obtained Labels Y-axis: Actual Labels\n"
          ]
        },
        {
          "output_type": "display_data",
          "data": {
            "image/png": "[encoded data removed]",
            "text/plain": [
              "<Figure size 432x288 with 5 Axes>"
            ]
          },
          "metadata": {
            "needs_background": "light"
          }
        }
      ]
    },
    {
      "cell_type": "code",
      "metadata": {
        "id": "m5PUoAWFgMSL"
      },
      "source": [
        ""
      ],
      "execution_count": null,
      "outputs": []
    },
    {
      "cell_type": "markdown",
      "metadata": {
        "id": "HHyYrqronzNY"
      },
      "source": [
        "##Model Trained on Combined Data"
      ]
    },
    {
      "cell_type": "code",
      "metadata": {
        "colab": {
          "base_uri": "https://localhost:8080/"
        },
        "id": "EW5xG7HVn2tD",
        "outputId": "664afa34-90dd-47a2-ad47-27c4a11f029e"
      },
      "source": [
        "import nltk\n",
        "from nltk.sentiment.vader import SentimentIntensityAnalyzer\n",
        "nltk.download('vader_lexicon')\n",
        "sid = SentimentIntensityAnalyzer()\n",
        "def get_vader_score(sent):\n",
        "    # Polarity score returns dictionary\n",
        "    ss = sid.polarity_scores(sent)\n",
        "    #return ss\n",
        "    return np.argmax(list(ss.values())[:-1])\n",
        "def get_encoding_per_tweet(tweet):\n",
        "  encoding=[]\n",
        "  tweet=tweet.lower()\n",
        "\n",
        "  # TWEET RELATED TO EARTHQUAKE\n",
        "  if \"earthquake\" in tweet:\n",
        "    encoding.append(1)\n",
        "  else:\n",
        "    encoding.append(0)\n",
        "\n",
        "  # TWEETS RELATED TO INJURIES AND DEATHS\n",
        "  if \"death\" in tweet and \"toll\" in tweet or 'victim' in tweet or \"injur\" in tweet:\n",
        "    encoding.append(1) # Can call another function in place of \"0\" which will give first encoding\n",
        "  else:\n",
        "    encoding.append(0) # Can call another function in place of \"1\" which will give second encoding\n",
        "  encoding.append(get_vader_score(tweet))\n",
        "\n",
        "  if \"dozens\" in tweet or \"thousands\" in tweet or  \"hundreds\" in tweet:\n",
        "    encoding.append(1) # Can call another function in place of \"0\" which will give first encoding\n",
        "  else:\n",
        "    encoding.append(0) # Can call another function in place of \"1\" which will give second encoding\n",
        "\n",
        "  #TWEETS RELATED TO MISSING OR MISPLACED PEOPLE\n",
        "  if \"miss\" in tweet or \"evacuat\" in tweet or \"displac\" in tweet or \"lost\" in tweet or \"relocat\" in tweet :\n",
        "    encoding.append(1) # Can call another function in place of \"0\" which will give first encoding\n",
        "  else:\n",
        "    encoding.append(0) # Can call another function in place of \"1\" which will give second encoding\n",
        "  \n",
        "  #TWEETS THAT TALK ABOUT FIRES AND TSUNAMI\n",
        "  if \"fire\" in tweet or \"tsunami\" in tweet:\n",
        "    encoding.append(1) # Can call another function in place of \"0\" which will give first encoding\n",
        "  else:\n",
        "    encoding.append(0) # Can call another function in place of \"1\" which will give second encoding\n",
        "  \n",
        "  return encoding\n",
        "\n",
        "\n",
        "## Get Encodings for all tweets [train or test, whichever supplied]\n",
        "def get_encoding_for_data(data):\n",
        "  X=[]\n",
        "  # Get encoding for each tweet in the data(set of tweets)\n",
        "  for tweet_id,tweet in zip(data['id'],data['tweets']):\n",
        "    X.append(get_encoding_per_tweet(tweet))\n",
        "  return X\n",
        "\n",
        "\n",
        "\n",
        "X_train_combined['tweets'] = X_train_combined['tweets'].apply(lambda x: str(x).lower())\n",
        "X_test_earthquake['tweets'] = X_test_earthquake['tweets'].apply(lambda x:x.lower())\n",
        "X_test_floods['tweets'] = X_test_floods['tweets'].apply(lambda x:x.lower())\n",
        "X_test_hurricane['tweets'] = X_test_hurricane['tweets'].apply(lambda x:x.lower())\n",
        "X_test_combined['tweets'] = X_test_combined['tweets'].apply(lambda x:x.lower())\n",
        "\n",
        "\n",
        "def remove_stopwords(tweet, stopwords_list):\n",
        "  tweet = tweet.split()\n",
        "  fin_list = []\n",
        "  for word in tweet:\n",
        "    if word not in stopwords_list:\n",
        "      fin_list.append(word)\n",
        "  \n",
        "  updated_sent = \" \"\n",
        "  updated_sent = updated_sent.join(fin_list)\n",
        "  return updated_sent\n",
        "\n",
        "def pos_selection(tweet):\n",
        "  pos_list=pos(tweet)\n",
        "  tweet = tweet.split()\n",
        "  fin_list = []\n",
        "  for tag,word in zip(pos_list,tweet):\n",
        "    if \"VB\" in tag or \"JJ\" in tag or \"RB\" in tag or \"NN\" in tag:\n",
        "      if \"NNP\" not in tag: \n",
        "        fin_list.append(word)\n",
        "  \n",
        "  updated_sent = \" \"\n",
        "  updated_sent = updated_sent.join(fin_list)\n",
        "  return updated_sent\n",
        "\n",
        "\n",
        "X_train_combined['tweets'] = X_train_combined['tweets'].apply(lambda x: pos_selection(x))\n",
        "X_test_earthquake['tweets'] = X_test_earthquake['tweets'].apply(lambda x:pos_selection(x))\n",
        "X_test_floods['tweets'] = X_test_floods['tweets'].apply(lambda x:pos_selection(x))\n",
        "X_test_hurricane['tweets'] = X_test_hurricane['tweets'].apply(lambda x:pos_selection(x))\n",
        "X_test_combined['tweets'] = X_test_combined['tweets'].apply(lambda x:pos_selection(x))\n",
        "\n",
        "# tweets['tweets'] = tweets['tweets'].apply(lambda x: pos_selection(x))\n",
        "# tweets['tweets'] = tweets['tweets'].apply(lambda x: remove_stopwords(x,lst_stopwords))\n",
        "# test_tweets['tweets'] = test_tweets['tweets'].apply(lambda x: remove_stopwords(x,lst_stopwords))\n",
        "\n",
        "\n",
        "\n",
        "from sklearn.feature_extraction.text import TfidfVectorizer\n",
        "tfidf = TfidfVectorizer(min_df=2,max_df=0.5, ngram_range=(1,3))\n",
        "model=tfidf.fit(X_train_combined['tweets'])\n",
        "features=model.transform(X_train_combined['tweets'])\n",
        "features_test_earthquake=model.transform(X_test_earthquake['tweets'])\n",
        "features_test_floods=model.transform(X_test_floods['tweets'])\n",
        "features_test_hurricane=model.transform(X_test_hurricane['tweets'])\n",
        "features_test_combined=model.transform(X_test_combined['tweets'])\n",
        "\n",
        "x_train=features\n",
        "x_test_earthquake=features_test_earthquake\n",
        "x_test_floods=features_test_floods\n",
        "x_test_hurricane=features_test_hurricane\n",
        "x_test_combined=features_test_combined\n",
        "\n",
        "\n",
        "# x_new_test=model.transform(test_tweets['tweets'])\n",
        "\n",
        "\n",
        "# REMOVING LOW VARIANCE FEATURES\n",
        "from sklearn.feature_selection import VarianceThreshold\n",
        "constant_filter = VarianceThreshold(threshold = 0.0002)\n",
        "constant_filter.fit(x_train)\n",
        "# feature_list = x_train\n",
        "# print('Number of selected features: ' ,len(list(feature_list)),'\\n')\n",
        "# print('List of selected features: \\n' ,list(feature_list))\n",
        "\n",
        "\n",
        "x_train_filter = constant_filter.transform(x_train)\n",
        "x_test_filter_earthquake = constant_filter.transform(x_test_earthquake)\n",
        "x_test_filter_floods = constant_filter.transform(x_test_floods)\n",
        "x_test_filter_hurricane = constant_filter.transform(x_test_hurricane)\n",
        "x_test_filter_combined = constant_filter.transform(x_test_combined)\n",
        "\n",
        "# x_new_test_filter = constant_filter.transform(x_new_test)\n",
        "# x_train_filter.shape, x_test_filter.shape, x_train.shape,x_new_test_filter.shape\n",
        "\n",
        "x_train_filter = pd.DataFrame(x_train_filter.toarray())\n",
        "x_test_filter_earthquake = pd.DataFrame(x_test_filter_earthquake.toarray())\n",
        "x_test_filter_floods = pd.DataFrame(x_test_filter_floods.toarray())\n",
        "x_test_filter_hurricane = pd.DataFrame(x_test_filter_hurricane.toarray())\n",
        "x_test_filter_combined = pd.DataFrame(x_test_filter_combined.toarray())\n",
        "\n",
        "\n",
        "# x_new_test_filter = pd.DataFrame(x_new_test_filter.toarray())\n",
        "\n",
        "\n",
        "def get_correlation(data, threshold):\n",
        "    corr_col = set()\n",
        "    cormat = data.corr()\n",
        "    for i in range(len(cormat.columns)):\n",
        "        for j in range(i):\n",
        "            if abs(cormat.iloc[i,j]) > threshold:\n",
        "                colname = cormat.columns[i]\n",
        "                corr_col.add(colname)\n",
        "    return corr_col\n",
        "corr_features = get_correlation(x_train_filter, 0.70)"
      ],
      "execution_count": null,
      "outputs": [
        {
          "output_type": "stream",
          "name": "stdout",
          "text": [
            "[nltk_data] Downloading package vader_lexicon to /root/nltk_data...\n",
            "[nltk_data]   Package vader_lexicon is already up-to-date!\n"
          ]
        }
      ]
    },
    {
      "cell_type": "code",
      "metadata": {
        "id": "3IXzwTVCn2tE"
      },
      "source": [
        "x_train_uncorr = x_train_filter.drop(labels= corr_features, axis = 1)\n",
        "x_test_uncorr_earthquake = x_test_filter_earthquake.drop(labels= corr_features, axis = 1)\n",
        "x_test_uncorr_floods = x_test_filter_floods.drop(labels= corr_features, axis = 1)\n",
        "x_test_uncorr_hurricane = x_test_filter_hurricane.drop(labels= corr_features, axis = 1)\n",
        "x_test_uncorr_combined = x_test_filter_combined.drop(labels= corr_features, axis = 1)\n",
        "\n",
        "# x_new_test_uncorr = x_new_test_filter.drop(labels= corr_features, axis = 1)\n",
        "\n",
        "x_train_uncorr = pd.DataFrame(x_train_uncorr)\n",
        "x_test_uncorr_earthquake = pd.DataFrame(x_test_uncorr_earthquake)\n",
        "x_test_uncorr_floods = pd.DataFrame(x_test_uncorr_floods)\n",
        "x_test_uncorr_hurricane = pd.DataFrame(x_test_uncorr_hurricane)\n",
        "x_test_uncorr_combined = pd.DataFrame(x_test_uncorr_combined)\n",
        "\n",
        "# x_new_test_uncorr = pd.DataFrame(x_new_test_uncorr)\n",
        "# x_train_uncorr.shape, x_test_uncorr.shape, x_new_test_uncorr.shape"
      ],
      "execution_count": null,
      "outputs": []
    },
    {
      "cell_type": "code",
      "metadata": {
        "id": "undBMNA4n2tF"
      },
      "source": [
        "x_train_uncorr=pd.concat([x_train_uncorr,pd.DataFrame(get_encoding_for_data(X_train_combined),columns=['a','b','c','d','e','f'])],axis=1)\n",
        "x_test_uncorr_earthquake=pd.concat([x_test_uncorr_earthquake,pd.DataFrame(get_encoding_for_data(X_test_earthquake),columns=['a','b','c','d','e','f'])],axis=1)\n",
        "x_test_uncorr_floods=pd.concat([x_test_uncorr_floods,pd.DataFrame(get_encoding_for_data(X_test_floods),columns=['a','b','c','d','e','f'])],axis=1)\n",
        "x_test_uncorr_hurricane=pd.concat([x_test_uncorr_hurricane,pd.DataFrame(get_encoding_for_data(X_test_hurricane),columns=['a','b','c','d','e','f'])],axis=1)\n",
        "x_test_uncorr_combined=pd.concat([x_test_uncorr_combined,pd.DataFrame(get_encoding_for_data(X_test_combined),columns=['a','b','c','d','e','f'])],axis=1)\n",
        "\n"
      ],
      "execution_count": null,
      "outputs": []
    },
    {
      "cell_type": "code",
      "metadata": {
        "colab": {
          "base_uri": "https://localhost:8080/"
        },
        "id": "wlBdndnJn2tF",
        "outputId": "b298053a-7802-47c7-8367-3deac3a50088"
      },
      "source": [
        "## Train with SVM\n",
        "from sklearn import svm\n",
        "# Can be used to get a rough estimate of score, later we use grid search to find better parameters\n",
        "clf = svm.SVC(cache_size=10000,class_weight=\"balanced\")\n",
        "# Fit over encodings and labels(binary labels) of the data\n",
        "clf.fit(x_train_uncorr, y_train_combined[\"label\"]) "
      ],
      "execution_count": null,
      "outputs": [
        {
          "output_type": "stream",
          "name": "stderr",
          "text": [
            "/usr/local/lib/python3.7/dist-packages/sklearn/utils/validation.py:1679: FutureWarning: Feature names only support names that are all strings. Got feature names with dtypes: ['int', 'str']. An error will be raised in 1.2.\n",
            "  FutureWarning,\n"
          ]
        },
        {
          "output_type": "execute_result",
          "data": {
            "text/plain": [
              "SVC(cache_size=10000, class_weight='balanced')"
            ]
          },
          "metadata": {},
          "execution_count": 46
        }
      ]
    },
    {
      "cell_type": "code",
      "metadata": {
        "colab": {
          "base_uri": "https://localhost:8080/",
          "height": 1000
        },
        "id": "mpuL52pYn2tF",
        "outputId": "e97211a0-6797-47c8-9435-8f1ac4868fc6"
      },
      "source": [
        "## Get predictions and obtain scores and confusion matrix\n",
        "import seaborn as sns\n",
        "from sklearn.metrics import classification_report, confusion_matrix\n",
        "\n",
        "print(\"------------ON EARTHQUAKE DATA--------------\")\n",
        "predictions= clf.predict(x_test_uncorr_earthquake)\n",
        "print(classification_report(y_test_earthquake['label'], predictions,digits=4))\n",
        "cf_matrix = confusion_matrix(y_test_earthquake['label'], predictions)\n",
        "sns.heatmap(cf_matrix, annot=True, fmt='g')\n",
        "print(\"X-axis: Obtained Labels Y-axis: Actual Labels\")\n",
        "\n",
        "print(\"------------ON FLOODS DATA--------------\")\n",
        "predictions= clf.predict(x_test_uncorr_floods)\n",
        "print(classification_report(y_test_floods['label'], predictions,digits=4))\n",
        "cf_matrix = confusion_matrix(y_test_floods['label'], predictions)\n",
        "sns.heatmap(cf_matrix, annot=True, fmt='g')\n",
        "print(\"X-axis: Obtained Labels Y-axis: Actual Labels\")\n",
        "\n",
        "print(\"------------ON HURRICANE DATA--------------\")\n",
        "predictions= clf.predict(x_test_uncorr_hurricane)\n",
        "print(classification_report(y_test_hurricane['label'], predictions,digits=4))\n",
        "cf_matrix = confusion_matrix(y_test_hurricane['label'], predictions)\n",
        "sns.heatmap(cf_matrix, annot=True, fmt='g')\n",
        "print(\"X-axis: Obtained Labels Y-axis: Actual Labels\")\n",
        "\n",
        "print(\"------------ON COMBINED DATA--------------\")\n",
        "predictions= clf.predict(x_test_uncorr_combined)\n",
        "print(classification_report(y_test_combined['label'], predictions,digits=4))\n",
        "cf_matrix = confusion_matrix(y_test_combined['label'], predictions)\n",
        "sns.heatmap(cf_matrix, annot=True, fmt='g')\n",
        "print(\"X-axis: Obtained Labels Y-axis: Actual Labels\")"
      ],
      "execution_count": null,
      "outputs": [
        {
          "output_type": "stream",
          "name": "stdout",
          "text": [
            "------------ON EARTHQUAKE DATA--------------\n"
          ]
        },
        {
          "output_type": "stream",
          "name": "stderr",
          "text": [
            "/usr/local/lib/python3.7/dist-packages/sklearn/utils/validation.py:1679: FutureWarning: Feature names only support names that are all strings. Got feature names with dtypes: ['int', 'str']. An error will be raised in 1.2.\n",
            "  FutureWarning,\n"
          ]
        },
        {
          "output_type": "stream",
          "name": "stdout",
          "text": [
            "              precision    recall  f1-score   support\n",
            "\n",
            "           0     0.9548    0.9154    0.9347      1360\n",
            "           1     0.7118    0.8280    0.7655       343\n",
            "\n",
            "    accuracy                         0.8978      1703\n",
            "   macro avg     0.8333    0.8717    0.8501      1703\n",
            "weighted avg     0.9058    0.8978    0.9006      1703\n",
            "\n",
            "X-axis: Obtained Labels Y-axis: Actual Labels\n",
            "------------ON FLOODS DATA--------------\n"
          ]
        },
        {
          "output_type": "stream",
          "name": "stderr",
          "text": [
            "/usr/local/lib/python3.7/dist-packages/sklearn/utils/validation.py:1679: FutureWarning: Feature names only support names that are all strings. Got feature names with dtypes: ['int', 'str']. An error will be raised in 1.2.\n",
            "  FutureWarning,\n"
          ]
        },
        {
          "output_type": "stream",
          "name": "stdout",
          "text": [
            "              precision    recall  f1-score   support\n",
            "\n",
            "           0     0.8444    0.9384    0.8889       503\n",
            "           1     0.8050    0.5953    0.6845       215\n",
            "\n",
            "    accuracy                         0.8357       718\n",
            "   macro avg     0.8247    0.7669    0.7867       718\n",
            "weighted avg     0.8326    0.8357    0.8277       718\n",
            "\n",
            "X-axis: Obtained Labels Y-axis: Actual Labels\n",
            "------------ON HURRICANE DATA--------------\n"
          ]
        },
        {
          "output_type": "stream",
          "name": "stderr",
          "text": [
            "/usr/local/lib/python3.7/dist-packages/sklearn/utils/validation.py:1679: FutureWarning: Feature names only support names that are all strings. Got feature names with dtypes: ['int', 'str']. An error will be raised in 1.2.\n",
            "  FutureWarning,\n"
          ]
        },
        {
          "output_type": "stream",
          "name": "stdout",
          "text": [
            "              precision    recall  f1-score   support\n",
            "\n",
            "           0     0.9333    0.9411    0.9372       832\n",
            "           1     0.7742    0.7500    0.7619       224\n",
            "\n",
            "    accuracy                         0.9006      1056\n",
            "   macro avg     0.8537    0.8456    0.8495      1056\n",
            "weighted avg     0.8995    0.9006    0.9000      1056\n",
            "\n",
            "X-axis: Obtained Labels Y-axis: Actual Labels\n",
            "------------ON COMBINED DATA--------------\n"
          ]
        },
        {
          "output_type": "stream",
          "name": "stderr",
          "text": [
            "/usr/local/lib/python3.7/dist-packages/sklearn/utils/validation.py:1679: FutureWarning: Feature names only support names that are all strings. Got feature names with dtypes: ['int', 'str']. An error will be raised in 1.2.\n",
            "  FutureWarning,\n"
          ]
        },
        {
          "output_type": "stream",
          "name": "stdout",
          "text": [
            "              precision    recall  f1-score   support\n",
            "\n",
            "           0     0.8006    0.9299    0.8604      1982\n",
            "           1     0.8816    0.6928    0.7759      1494\n",
            "\n",
            "    accuracy                         0.8280      3476\n",
            "   macro avg     0.8411    0.8113    0.8181      3476\n",
            "weighted avg     0.8354    0.8280    0.8241      3476\n",
            "\n",
            "X-axis: Obtained Labels Y-axis: Actual Labels\n"
          ]
        },
        {
          "output_type": "display_data",
          "data": {
            "image/png": "[encoded data removed]",
            "text/plain": [
              "<Figure size 432x288 with 5 Axes>"
            ]
          },
          "metadata": {
            "needs_background": "light"
          }
        }
      ]
    }
  ]
}